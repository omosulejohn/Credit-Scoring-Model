{
 "cells": [
  {
   "cell_type": "markdown",
   "metadata": {
    "id": "l1VuY4u2-r1N"
   },
   "source": [
    "# 1. Defining the Question\n",
    "\n",
    "## 1.1 Specifying the Data Analysis Question\n",
    "Create a credit scoring model to predict whether a new customer will default based on the historical data in the given dataset. Select one or several suitable learning algorithms and a suitable metric for assessing quality model.\n",
    "\n",
    "## 1.2 Defining the Metric for Success\n",
    "Since the problem we are tackling is a classification problem, we will use classification reports and confusion matrices as well as accuracy and precision scores to measure the success of the models used.\n",
    "\n",
    "## 1.3 Understanding the Context\n",
    "Talar is a finance app that offers microloans to its users in Kenya, Philippines and Tanzania. It uses a variety of information, from basic biographical data to the loan applications that come through daily. \n",
    "You work with the product team as a data scientist to help create effective credit scoring models used to assess different customer segments.\n",
    "\n",
    "## 1.4 Recording the Experimental Design\n",
    "- load libraries and dataset\n",
    "- clean dataset:\n",
    "    - deal with duplicate and/or missing values\n",
    "    - deal with outliers, where necessary\n",
    "    - deal with other anomalies in the data, where necessary\n",
    "- carry out exploratory data analysis\n",
    "- carry out feature engineering\n",
    "- carry out modeling\n",
    "    - tune hyperparameters\n",
    "    - feature selection\n",
    "    - alternative models\n",
    "- summarize and provide recommendations\n",
    "- challenge the solution\n",
    "\n",
    "## 1.5 Assessing the Relevance of the Data\n",
    "While the data provided was relevant, it had a lot of imbalanced classes which affected the results of the modeling."
   ]
  },
  {
   "cell_type": "markdown",
   "metadata": {
    "id": "xbgh2SK3gc6K"
   },
   "source": [
    "# 2. Data Preparation"
   ]
  },
  {
   "cell_type": "code",
   "execution_count": null,
   "metadata": {
    "id": "i2OyzuO-gc6L"
   },
   "outputs": [],
   "source": [
    "# load Numpy\n",
    "import numpy as np\n",
    "\n",
    "# load Pandas\n",
    "import pandas as pd\n",
    "\n",
    "# load matplotlib.pyplot\n",
    "import matplotlib.pyplot as plt\n",
    "\n",
    "# load Seaborn\n",
    "import seaborn as sns\n",
    "\n",
    "# customizing display settings\n",
    "%matplotlib inline\n",
    "pd.set_option(\"display.max.columns\", None)\n",
    "\n",
    "from pylab import rcParams\n",
    "rcParams[\"figure.figsize\"] = [7, 5]"
   ]
  },
  {
   "cell_type": "code",
   "execution_count": null,
   "metadata": {
    "id": "Y9a_st7agc6R",
    "outputId": "3538d5ac-94a3-4f5f-d7b4-13961008b3fa"
   },
   "outputs": [
    {
     "data": {
      "text/html": [
       "<div>\n",
       "<style scoped>\n",
       "    .dataframe tbody tr th:only-of-type {\n",
       "        vertical-align: middle;\n",
       "    }\n",
       "\n",
       "    .dataframe tbody tr th {\n",
       "        vertical-align: top;\n",
       "    }\n",
       "\n",
       "    .dataframe thead th {\n",
       "        text-align: right;\n",
       "    }\n",
       "</style>\n",
       "<table border=\"1\" class=\"dataframe\">\n",
       "  <thead>\n",
       "    <tr style=\"text-align: right;\">\n",
       "      <th></th>\n",
       "      <th>application_dt</th>\n",
       "      <th>education_cd</th>\n",
       "      <th>gender_cd</th>\n",
       "      <th>age</th>\n",
       "      <th>car_own_flg</th>\n",
       "      <th>car_type_flg</th>\n",
       "      <th>appl_rej_cnt</th>\n",
       "      <th>good_work_flg</th>\n",
       "      <th>Score_bki</th>\n",
       "      <th>out_request_cnt</th>\n",
       "      <th>region_rating</th>\n",
       "      <th>home_address_cd</th>\n",
       "      <th>work_address_cd</th>\n",
       "      <th>income</th>\n",
       "      <th>SNA</th>\n",
       "      <th>first_time_cd</th>\n",
       "      <th>Air_flg</th>\n",
       "      <th>default_flg</th>\n",
       "    </tr>\n",
       "    <tr>\n",
       "      <th>id</th>\n",
       "      <th></th>\n",
       "      <th></th>\n",
       "      <th></th>\n",
       "      <th></th>\n",
       "      <th></th>\n",
       "      <th></th>\n",
       "      <th></th>\n",
       "      <th></th>\n",
       "      <th></th>\n",
       "      <th></th>\n",
       "      <th></th>\n",
       "      <th></th>\n",
       "      <th></th>\n",
       "      <th></th>\n",
       "      <th></th>\n",
       "      <th></th>\n",
       "      <th></th>\n",
       "      <th></th>\n",
       "    </tr>\n",
       "  </thead>\n",
       "  <tbody>\n",
       "    <tr>\n",
       "      <th>1</th>\n",
       "      <td>01JAN2014</td>\n",
       "      <td>SCH</td>\n",
       "      <td>M</td>\n",
       "      <td>27</td>\n",
       "      <td>Y</td>\n",
       "      <td>Y</td>\n",
       "      <td>0</td>\n",
       "      <td>0</td>\n",
       "      <td>-1.917831</td>\n",
       "      <td>0</td>\n",
       "      <td>40</td>\n",
       "      <td>2</td>\n",
       "      <td>3</td>\n",
       "      <td>32000</td>\n",
       "      <td>1</td>\n",
       "      <td>4</td>\n",
       "      <td>N</td>\n",
       "      <td>0</td>\n",
       "    </tr>\n",
       "    <tr>\n",
       "      <th>2</th>\n",
       "      <td>01JAN2014</td>\n",
       "      <td>GRD</td>\n",
       "      <td>F</td>\n",
       "      <td>26</td>\n",
       "      <td>N</td>\n",
       "      <td>N</td>\n",
       "      <td>0</td>\n",
       "      <td>0</td>\n",
       "      <td>-1.153144</td>\n",
       "      <td>2</td>\n",
       "      <td>60</td>\n",
       "      <td>2</td>\n",
       "      <td>3</td>\n",
       "      <td>50000</td>\n",
       "      <td>2</td>\n",
       "      <td>1</td>\n",
       "      <td>N</td>\n",
       "      <td>0</td>\n",
       "    </tr>\n",
       "    <tr>\n",
       "      <th>3</th>\n",
       "      <td>01JAN2014</td>\n",
       "      <td>SCH</td>\n",
       "      <td>M</td>\n",
       "      <td>35</td>\n",
       "      <td>N</td>\n",
       "      <td>N</td>\n",
       "      <td>0</td>\n",
       "      <td>1</td>\n",
       "      <td>-1.732810</td>\n",
       "      <td>0</td>\n",
       "      <td>40</td>\n",
       "      <td>1</td>\n",
       "      <td>2</td>\n",
       "      <td>20000</td>\n",
       "      <td>4</td>\n",
       "      <td>3</td>\n",
       "      <td>N</td>\n",
       "      <td>0</td>\n",
       "    </tr>\n",
       "    <tr>\n",
       "      <th>4</th>\n",
       "      <td>01JAN2014</td>\n",
       "      <td>GRD</td>\n",
       "      <td>F</td>\n",
       "      <td>35</td>\n",
       "      <td>N</td>\n",
       "      <td>N</td>\n",
       "      <td>0</td>\n",
       "      <td>1</td>\n",
       "      <td>-2.552133</td>\n",
       "      <td>2</td>\n",
       "      <td>20</td>\n",
       "      <td>2</td>\n",
       "      <td>3</td>\n",
       "      <td>80000</td>\n",
       "      <td>1</td>\n",
       "      <td>3</td>\n",
       "      <td>N</td>\n",
       "      <td>0</td>\n",
       "    </tr>\n",
       "    <tr>\n",
       "      <th>5</th>\n",
       "      <td>01JAN2014</td>\n",
       "      <td>UGR</td>\n",
       "      <td>F</td>\n",
       "      <td>24</td>\n",
       "      <td>N</td>\n",
       "      <td>N</td>\n",
       "      <td>0</td>\n",
       "      <td>0</td>\n",
       "      <td>-1.914581</td>\n",
       "      <td>1</td>\n",
       "      <td>50</td>\n",
       "      <td>2</td>\n",
       "      <td>3</td>\n",
       "      <td>27000</td>\n",
       "      <td>1</td>\n",
       "      <td>2</td>\n",
       "      <td>N</td>\n",
       "      <td>0</td>\n",
       "    </tr>\n",
       "  </tbody>\n",
       "</table>\n",
       "</div>"
      ],
      "text/plain": [
       "   application_dt education_cd gender_cd  age car_own_flg car_type_flg  \\\n",
       "id                                                                       \n",
       "1       01JAN2014          SCH         M   27           Y            Y   \n",
       "2       01JAN2014          GRD         F   26           N            N   \n",
       "3       01JAN2014          SCH         M   35           N            N   \n",
       "4       01JAN2014          GRD         F   35           N            N   \n",
       "5       01JAN2014          UGR         F   24           N            N   \n",
       "\n",
       "    appl_rej_cnt  good_work_flg  Score_bki  out_request_cnt  region_rating  \\\n",
       "id                                                                           \n",
       "1              0              0  -1.917831                0             40   \n",
       "2              0              0  -1.153144                2             60   \n",
       "3              0              1  -1.732810                0             40   \n",
       "4              0              1  -2.552133                2             20   \n",
       "5              0              0  -1.914581                1             50   \n",
       "\n",
       "    home_address_cd  work_address_cd  income  SNA  first_time_cd Air_flg  \\\n",
       "id                                                                         \n",
       "1                 2                3   32000    1              4       N   \n",
       "2                 2                3   50000    2              1       N   \n",
       "3                 1                2   20000    4              3       N   \n",
       "4                 2                3   80000    1              3       N   \n",
       "5                 2                3   27000    1              2       N   \n",
       "\n",
       "    default_flg  \n",
       "id               \n",
       "1             0  \n",
       "2             0  \n",
       "3             0  \n",
       "4             0  \n",
       "5             0  "
      ]
     },
     "execution_count": 64,
     "metadata": {
      "tags": []
     },
     "output_type": "execute_result"
    }
   ],
   "source": [
    "# load the train dataset\n",
    "train = pd.read_csv('tala_train.csv', index_col = 'id')\n",
    "\n",
    "# preview the first 5 records\n",
    "train.head()"
   ]
  },
  {
   "cell_type": "code",
   "execution_count": null,
   "metadata": {
    "id": "_wdyMxXMgc6U",
    "outputId": "1fbe85bf-1aa2-41a3-cd45-b8d867816a72"
   },
   "outputs": [
    {
     "data": {
      "text/plain": [
       "(110148, 18)"
      ]
     },
     "execution_count": 65,
     "metadata": {
      "tags": []
     },
     "output_type": "execute_result"
    }
   ],
   "source": [
    "# check dataset shape\n",
    "train.shape"
   ]
  },
  {
   "cell_type": "markdown",
   "metadata": {
    "id": "QdaMelLHgc6Y"
   },
   "source": [
    "Our dataset has 110,148 records and 18 variables (excluding the ID column)."
   ]
  },
  {
   "cell_type": "code",
   "execution_count": null,
   "metadata": {
    "id": "hiXgq-Izgc6Y",
    "outputId": "6d251355-ad42-4078-8d44-c4bd35dc6077"
   },
   "outputs": [
    {
     "data": {
      "text/plain": [
       "False"
      ]
     },
     "execution_count": 66,
     "metadata": {
      "tags": []
     },
     "output_type": "execute_result"
    }
   ],
   "source": [
    "# check for duplicated values\n",
    "train.duplicated().any()"
   ]
  },
  {
   "cell_type": "markdown",
   "metadata": {
    "id": "d531gLQKgc6a"
   },
   "source": [
    "There are no duplicated values so there's no need to drop any."
   ]
  },
  {
   "cell_type": "code",
   "execution_count": null,
   "metadata": {
    "id": "4F4CpzNWgc6b",
    "outputId": "5875f072-1a33-49e2-8b2b-30f0f4dbc19d"
   },
   "outputs": [
    {
     "data": {
      "text/plain": [
       "application_dt       0\n",
       "education_cd       478\n",
       "gender_cd            0\n",
       "age                  0\n",
       "car_own_flg          0\n",
       "car_type_flg         0\n",
       "appl_rej_cnt         0\n",
       "good_work_flg        0\n",
       "Score_bki            0\n",
       "out_request_cnt      0\n",
       "region_rating        0\n",
       "home_address_cd      0\n",
       "work_address_cd      0\n",
       "income               0\n",
       "SNA                  0\n",
       "first_time_cd        0\n",
       "Air_flg              0\n",
       "default_flg          0\n",
       "dtype: int64"
      ]
     },
     "execution_count": 67,
     "metadata": {
      "tags": []
     },
     "output_type": "execute_result"
    }
   ],
   "source": [
    "# check for missing values\n",
    "train.isna().sum()"
   ]
  },
  {
   "cell_type": "markdown",
   "metadata": {
    "id": "cU-jePtbgc6e"
   },
   "source": [
    "The 'education_cd' variable has 478 missing values. As it is a categorical variable about the level of education attained, we will replace these missing values with the string 'N/A'."
   ]
  },
  {
   "cell_type": "code",
   "execution_count": null,
   "metadata": {
    "id": "rjGCoCIDgc6f",
    "outputId": "d348e3cc-f597-44db-ed5b-85d38114e828"
   },
   "outputs": [
    {
     "data": {
      "text/plain": [
       "application_dt     False\n",
       "education_cd       False\n",
       "gender_cd          False\n",
       "age                False\n",
       "car_own_flg        False\n",
       "car_type_flg       False\n",
       "appl_rej_cnt       False\n",
       "good_work_flg      False\n",
       "Score_bki          False\n",
       "out_request_cnt    False\n",
       "region_rating      False\n",
       "home_address_cd    False\n",
       "work_address_cd    False\n",
       "income             False\n",
       "SNA                False\n",
       "first_time_cd      False\n",
       "Air_flg            False\n",
       "default_flg        False\n",
       "dtype: bool"
      ]
     },
     "execution_count": 68,
     "metadata": {
      "tags": []
     },
     "output_type": "execute_result"
    }
   ],
   "source": [
    "train['education_cd'] = train.education_cd.fillna('N/A')\n",
    "\n",
    "# confirm that we don't have any more missing values\n",
    "train.isna().any()"
   ]
  },
  {
   "cell_type": "code",
   "execution_count": null,
   "metadata": {
    "id": "QPJNwbzxgc6h",
    "outputId": "6fa3b6d9-df5f-4d21-f19a-575fb960b509"
   },
   "outputs": [
    {
     "data": {
      "text/plain": [
       "application_dt      object\n",
       "education_cd        object\n",
       "gender_cd           object\n",
       "age                  int64\n",
       "car_own_flg         object\n",
       "car_type_flg        object\n",
       "appl_rej_cnt         int64\n",
       "good_work_flg        int64\n",
       "Score_bki          float64\n",
       "out_request_cnt      int64\n",
       "region_rating        int64\n",
       "home_address_cd      int64\n",
       "work_address_cd      int64\n",
       "income               int64\n",
       "SNA                  int64\n",
       "first_time_cd        int64\n",
       "Air_flg             object\n",
       "default_flg          int64\n",
       "dtype: object"
      ]
     },
     "execution_count": 69,
     "metadata": {
      "tags": []
     },
     "output_type": "execute_result"
    }
   ],
   "source": [
    "# check the data types\n",
    "train.dtypes"
   ]
  },
  {
   "cell_type": "markdown",
   "metadata": {
    "id": "Kwvh5Sq8gc6j"
   },
   "source": [
    "We should split the 'application_dt' variable into day and month."
   ]
  },
  {
   "cell_type": "code",
   "execution_count": null,
   "metadata": {
    "id": "dgRZDqspgc6k",
    "outputId": "a4576ac8-8f87-43f7-b221-8b7b4bb4cbc5"
   },
   "outputs": [
    {
     "data": {
      "text/html": [
       "<div>\n",
       "<style scoped>\n",
       "    .dataframe tbody tr th:only-of-type {\n",
       "        vertical-align: middle;\n",
       "    }\n",
       "\n",
       "    .dataframe tbody tr th {\n",
       "        vertical-align: top;\n",
       "    }\n",
       "\n",
       "    .dataframe thead th {\n",
       "        text-align: right;\n",
       "    }\n",
       "</style>\n",
       "<table border=\"1\" class=\"dataframe\">\n",
       "  <thead>\n",
       "    <tr style=\"text-align: right;\">\n",
       "      <th></th>\n",
       "      <th>application_day</th>\n",
       "      <th>application_month</th>\n",
       "      <th>education_cd</th>\n",
       "      <th>gender_cd</th>\n",
       "      <th>age</th>\n",
       "      <th>car_own_flg</th>\n",
       "      <th>car_type_flg</th>\n",
       "      <th>appl_rej_cnt</th>\n",
       "      <th>good_work_flg</th>\n",
       "      <th>Score_bki</th>\n",
       "      <th>out_request_cnt</th>\n",
       "      <th>region_rating</th>\n",
       "      <th>home_address_cd</th>\n",
       "      <th>work_address_cd</th>\n",
       "      <th>income</th>\n",
       "      <th>SNA</th>\n",
       "      <th>first_time_cd</th>\n",
       "      <th>Air_flg</th>\n",
       "      <th>default_flg</th>\n",
       "    </tr>\n",
       "    <tr>\n",
       "      <th>id</th>\n",
       "      <th></th>\n",
       "      <th></th>\n",
       "      <th></th>\n",
       "      <th></th>\n",
       "      <th></th>\n",
       "      <th></th>\n",
       "      <th></th>\n",
       "      <th></th>\n",
       "      <th></th>\n",
       "      <th></th>\n",
       "      <th></th>\n",
       "      <th></th>\n",
       "      <th></th>\n",
       "      <th></th>\n",
       "      <th></th>\n",
       "      <th></th>\n",
       "      <th></th>\n",
       "      <th></th>\n",
       "      <th></th>\n",
       "    </tr>\n",
       "  </thead>\n",
       "  <tbody>\n",
       "    <tr>\n",
       "      <th>1</th>\n",
       "      <td>01</td>\n",
       "      <td>JAN</td>\n",
       "      <td>SCH</td>\n",
       "      <td>M</td>\n",
       "      <td>27</td>\n",
       "      <td>Y</td>\n",
       "      <td>Y</td>\n",
       "      <td>0</td>\n",
       "      <td>0</td>\n",
       "      <td>-1.917831</td>\n",
       "      <td>0</td>\n",
       "      <td>40</td>\n",
       "      <td>2</td>\n",
       "      <td>3</td>\n",
       "      <td>32000</td>\n",
       "      <td>1</td>\n",
       "      <td>4</td>\n",
       "      <td>N</td>\n",
       "      <td>0</td>\n",
       "    </tr>\n",
       "    <tr>\n",
       "      <th>2</th>\n",
       "      <td>01</td>\n",
       "      <td>JAN</td>\n",
       "      <td>GRD</td>\n",
       "      <td>F</td>\n",
       "      <td>26</td>\n",
       "      <td>N</td>\n",
       "      <td>N</td>\n",
       "      <td>0</td>\n",
       "      <td>0</td>\n",
       "      <td>-1.153144</td>\n",
       "      <td>2</td>\n",
       "      <td>60</td>\n",
       "      <td>2</td>\n",
       "      <td>3</td>\n",
       "      <td>50000</td>\n",
       "      <td>2</td>\n",
       "      <td>1</td>\n",
       "      <td>N</td>\n",
       "      <td>0</td>\n",
       "    </tr>\n",
       "    <tr>\n",
       "      <th>3</th>\n",
       "      <td>01</td>\n",
       "      <td>JAN</td>\n",
       "      <td>SCH</td>\n",
       "      <td>M</td>\n",
       "      <td>35</td>\n",
       "      <td>N</td>\n",
       "      <td>N</td>\n",
       "      <td>0</td>\n",
       "      <td>1</td>\n",
       "      <td>-1.732810</td>\n",
       "      <td>0</td>\n",
       "      <td>40</td>\n",
       "      <td>1</td>\n",
       "      <td>2</td>\n",
       "      <td>20000</td>\n",
       "      <td>4</td>\n",
       "      <td>3</td>\n",
       "      <td>N</td>\n",
       "      <td>0</td>\n",
       "    </tr>\n",
       "    <tr>\n",
       "      <th>4</th>\n",
       "      <td>01</td>\n",
       "      <td>JAN</td>\n",
       "      <td>GRD</td>\n",
       "      <td>F</td>\n",
       "      <td>35</td>\n",
       "      <td>N</td>\n",
       "      <td>N</td>\n",
       "      <td>0</td>\n",
       "      <td>1</td>\n",
       "      <td>-2.552133</td>\n",
       "      <td>2</td>\n",
       "      <td>20</td>\n",
       "      <td>2</td>\n",
       "      <td>3</td>\n",
       "      <td>80000</td>\n",
       "      <td>1</td>\n",
       "      <td>3</td>\n",
       "      <td>N</td>\n",
       "      <td>0</td>\n",
       "    </tr>\n",
       "    <tr>\n",
       "      <th>5</th>\n",
       "      <td>01</td>\n",
       "      <td>JAN</td>\n",
       "      <td>UGR</td>\n",
       "      <td>F</td>\n",
       "      <td>24</td>\n",
       "      <td>N</td>\n",
       "      <td>N</td>\n",
       "      <td>0</td>\n",
       "      <td>0</td>\n",
       "      <td>-1.914581</td>\n",
       "      <td>1</td>\n",
       "      <td>50</td>\n",
       "      <td>2</td>\n",
       "      <td>3</td>\n",
       "      <td>27000</td>\n",
       "      <td>1</td>\n",
       "      <td>2</td>\n",
       "      <td>N</td>\n",
       "      <td>0</td>\n",
       "    </tr>\n",
       "  </tbody>\n",
       "</table>\n",
       "</div>"
      ],
      "text/plain": [
       "   application_day application_month education_cd gender_cd  age car_own_flg  \\\n",
       "id                                                                             \n",
       "1               01               JAN          SCH         M   27           Y   \n",
       "2               01               JAN          GRD         F   26           N   \n",
       "3               01               JAN          SCH         M   35           N   \n",
       "4               01               JAN          GRD         F   35           N   \n",
       "5               01               JAN          UGR         F   24           N   \n",
       "\n",
       "   car_type_flg  appl_rej_cnt  good_work_flg  Score_bki  out_request_cnt  \\\n",
       "id                                                                         \n",
       "1             Y             0              0  -1.917831                0   \n",
       "2             N             0              0  -1.153144                2   \n",
       "3             N             0              1  -1.732810                0   \n",
       "4             N             0              1  -2.552133                2   \n",
       "5             N             0              0  -1.914581                1   \n",
       "\n",
       "    region_rating  home_address_cd  work_address_cd  income  SNA  \\\n",
       "id                                                                 \n",
       "1              40                2                3   32000    1   \n",
       "2              60                2                3   50000    2   \n",
       "3              40                1                2   20000    4   \n",
       "4              20                2                3   80000    1   \n",
       "5              50                2                3   27000    1   \n",
       "\n",
       "    first_time_cd Air_flg  default_flg  \n",
       "id                                      \n",
       "1               4       N            0  \n",
       "2               1       N            0  \n",
       "3               3       N            0  \n",
       "4               3       N            0  \n",
       "5               2       N            0  "
      ]
     },
     "execution_count": 70,
     "metadata": {
      "tags": []
     },
     "output_type": "execute_result"
    }
   ],
   "source": [
    "train['application_dt'] =  train['application_dt'].apply(lambda x : '%s %s %s' % (x[0:2], x[2:5], x[5:]))\n",
    "train[['application_day', 'application_month', 'year']] = train['application_dt'].str.split(\" \", 2, expand = True)\n",
    "\n",
    "# rearrange columns\n",
    "cols = train.columns.to_list()\n",
    "cols.insert(0, 'application_day')\n",
    "cols.insert(1, 'application_month')\n",
    "\n",
    "# drop unnecessary columns\n",
    "train.drop(columns = ['application_dt', 'year', ], inplace = True)\n",
    "cols.remove('application_dt')\n",
    "cols.remove('year')\n",
    "cols = cols[:-2]\n",
    "\n",
    "# rearrange columns\n",
    "train = train[cols]\n",
    "train.head()"
   ]
  },
  {
   "cell_type": "code",
   "execution_count": null,
   "metadata": {
    "id": "rKDxWSbVgc6n",
    "outputId": "a6c10443-adef-4c5a-b1fa-11f1e84558c8"
   },
   "outputs": [
    {
     "data": {
      "image/png": "[encoded data removed]",
      "text/plain": [
       "<Figure size 1440x360 with 1 Axes>"
      ]
     },
     "metadata": {
      "needs_background": "light",
      "tags": []
     },
     "output_type": "display_data"
    }
   ],
   "source": [
    "# checking for outliers\n",
    "plt.figure(figsize = (20, 5))\n",
    "train.boxplot()\n",
    "plt.show()"
   ]
  },
  {
   "cell_type": "markdown",
   "metadata": {
    "id": "TwEYtjBGgc6p"
   },
   "source": [
    "We see that the 'income' variable has a lot of outliers. However, we cannot remove them because they reflect real life income earnings, and therefore provide useful insights. However, it is worth keeping in mind that logistic regression assumes that the dataset it will be fitted on has few to no outliers."
   ]
  },
  {
   "cell_type": "markdown",
   "metadata": {
    "id": "4uVQw_Odgc6p"
   },
   "source": [
    "We are now done with data cleaning and preparation, and can now move on to the exploratory data analysis stage."
   ]
  },
  {
   "cell_type": "markdown",
   "metadata": {
    "id": "WanK4FCpgc6p"
   },
   "source": [
    "# 3. Exploratory Data Analysis"
   ]
  },
  {
   "cell_type": "markdown",
   "metadata": {
    "id": "pfWCGtUMgc6q"
   },
   "source": [
    "## 3.1 Univariate Analysis"
   ]
  },
  {
   "cell_type": "code",
   "execution_count": null,
   "metadata": {
    "id": "nyby6Nk4gc6q",
    "outputId": "3234b501-c1e4-4b7b-84f7-bc2a4510c3c4"
   },
   "outputs": [
    {
     "data": {
      "image/png": "[encoded data removed]",
      "text/plain": [
       "<Figure size 504x360 with 1 Axes>"
      ]
     },
     "metadata": {
      "needs_background": "light",
      "tags": []
     },
     "output_type": "display_data"
    }
   ],
   "source": [
    "# distribution of education\n",
    "train.education_cd.value_counts().plot(kind = 'bar', rot = 0)\n",
    "plt.show()"
   ]
  },
  {
   "cell_type": "markdown",
   "metadata": {
    "id": "761pUiHsgc6s"
   },
   "source": [
    "Majority of the customers attained 'SCH'education level."
   ]
  },
  {
   "cell_type": "code",
   "execution_count": null,
   "metadata": {
    "id": "ZOfRZMipgc6s",
    "outputId": "2339c60a-bdd2-47b1-f0bb-3c38c1608699"
   },
   "outputs": [
    {
     "data": {
      "image/png": "[encoded data removed]",
      "text/plain": [
       "<Figure size 432x432 with 1 Axes>"
      ]
     },
     "metadata": {
      "tags": []
     },
     "output_type": "display_data"
    }
   ],
   "source": [
    "# exploring the 'gender_cd' variable\n",
    "plt.figure(figsize = (6, 6))\n",
    "train.gender_cd.value_counts().plot(kind = 'pie', autopct = '%0.1f%%')\n",
    "plt.show()"
   ]
  },
  {
   "cell_type": "markdown",
   "metadata": {
    "id": "6Qy0s2smgc6x"
   },
   "source": [
    "Majority of the customers in this dataset are female."
   ]
  },
  {
   "cell_type": "code",
   "execution_count": null,
   "metadata": {
    "id": "XqTJYFPpgc6x",
    "outputId": "e0444f69-94ef-4045-d294-de12542b3fd1"
   },
   "outputs": [
    {
     "data": {
      "image/png": "[encoded data removed]",
      "text/plain": [
       "<Figure size 504x360 with 1 Axes>"
      ]
     },
     "metadata": {
      "needs_background": "light",
      "tags": []
     },
     "output_type": "display_data"
    }
   ],
   "source": [
    "# exploring the 'age variable'\n",
    "train.age.hist()\n",
    "plt.show()"
   ]
  },
  {
   "cell_type": "markdown",
   "metadata": {
    "id": "EcO5uM-Ggc6z"
   },
   "source": [
    "The age distribution of the customers is skewed to the right."
   ]
  },
  {
   "cell_type": "code",
   "execution_count": null,
   "metadata": {
    "id": "SxAdlItKgc6z",
    "outputId": "a225e536-e5ee-4f7a-ec10-65ee1ee28fae"
   },
   "outputs": [
    {
     "data": {
      "image/png": "[encoded data removed]",
      "text/plain": [
       "<Figure size 504x360 with 1 Axes>"
      ]
     },
     "metadata": {
      "needs_background": "light",
      "tags": []
     },
     "output_type": "display_data"
    }
   ],
   "source": [
    "# exploring the 'car_own_flg' variable\n",
    "train.car_own_flg.value_counts().plot(kind = 'bar', rot = 0)\n",
    "plt.show()"
   ]
  },
  {
   "cell_type": "markdown",
   "metadata": {
    "id": "mjY2P2fpgc61"
   },
   "source": [
    "Majority of the customers don't have a car."
   ]
  },
  {
   "cell_type": "code",
   "execution_count": null,
   "metadata": {
    "id": "Fe7U6NtZgc62",
    "outputId": "965043ff-b2cd-412a-c08f-3fa9890008df"
   },
   "outputs": [
    {
     "data": {
      "image/png": "[encoded data removed]",
      "text/plain": [
       "<Figure size 504x360 with 1 Axes>"
      ]
     },
     "metadata": {
      "needs_background": "light",
      "tags": []
     },
     "output_type": "display_data"
    }
   ],
   "source": [
    "# exploring the 'car_type_flg' variable\n",
    "train.car_type_flg.value_counts().plot(kind = 'bar', rot = 0)\n",
    "plt.show()"
   ]
  },
  {
   "cell_type": "markdown",
   "metadata": {
    "id": "iwuVUCYBgc64"
   },
   "source": [
    "Majority of the customers don't have a foreign car."
   ]
  },
  {
   "cell_type": "code",
   "execution_count": null,
   "metadata": {
    "id": "9wXPL0-Fgc64",
    "outputId": "76ff78d1-a6e3-49ff-fc92-ca96c0da8240"
   },
   "outputs": [
    {
     "data": {
      "image/png": "[encoded data removed]",
      "text/plain": [
       "<Figure size 504x360 with 1 Axes>"
      ]
     },
     "metadata": {
      "needs_background": "light",
      "tags": []
     },
     "output_type": "display_data"
    }
   ],
   "source": [
    "# exploring the 'appl_rej_cnt' variable\n",
    "sns.histplot(train['appl_rej_cnt'])\n",
    "plt.show()"
   ]
  },
  {
   "cell_type": "markdown",
   "metadata": {
    "id": "YLIaMT4ugc66"
   },
   "source": [
    "Majority of the customers have 0 denied past claims."
   ]
  },
  {
   "cell_type": "code",
   "execution_count": null,
   "metadata": {
    "id": "M1lsiNovgc66",
    "outputId": "e3a7460b-ab75-4a86-a47e-32f0a09d9fe9"
   },
   "outputs": [
    {
     "data": {
      "image/png": "[encoded data removed]",
      "text/plain": [
       "<Figure size 504x360 with 1 Axes>"
      ]
     },
     "metadata": {
      "tags": []
     },
     "output_type": "display_data"
    }
   ],
   "source": [
    "# exploring the 'good_work_flg' variable\n",
    "train.good_work_flg.value_counts().plot(kind = 'pie', autopct = '%1.1f%%')\n",
    "plt.show()"
   ]
  },
  {
   "cell_type": "markdown",
   "metadata": {
    "id": "iuxwTzj-gc68"
   },
   "source": [
    "Majority of the customers don't have the flag for good work."
   ]
  },
  {
   "cell_type": "code",
   "execution_count": null,
   "metadata": {
    "id": "YT1qhenNgc68",
    "outputId": "d47861cf-f718-4dc2-f6c7-42c5f31ad74d"
   },
   "outputs": [
    {
     "data": {
      "text/plain": [
       "<seaborn.axisgrid.FacetGrid at 0x28601d69370>"
      ]
     },
     "execution_count": 79,
     "metadata": {
      "tags": []
     },
     "output_type": "execute_result"
    },
    {
     "data": {
      "image/png": "[encoded data removed]",
      "text/plain": [
       "<Figure size 360x360 with 1 Axes>"
      ]
     },
     "metadata": {
      "needs_background": "light",
      "tags": []
     },
     "output_type": "display_data"
    }
   ],
   "source": [
    "sns.displot(train['Score_bki'])"
   ]
  },
  {
   "cell_type": "markdown",
   "metadata": {
    "id": "cyF7Nkepgc7A"
   },
   "source": [
    "This variable displays a normal distribution."
   ]
  },
  {
   "cell_type": "code",
   "execution_count": null,
   "metadata": {
    "id": "3vIkR01hgc7A",
    "outputId": "6d1d968e-3d69-4ae6-822d-9523ebd1faa9"
   },
   "outputs": [
    {
     "data": {
      "image/png": "[encoded data removed]",
      "text/plain": [
       "<Figure size 720x432 with 1 Axes>"
      ]
     },
     "metadata": {
      "needs_background": "light",
      "tags": []
     },
     "output_type": "display_data"
    }
   ],
   "source": [
    "# exploring the 'out_request_cnt' variable\n",
    "plt.figure(figsize = (10, 6))\n",
    "train.out_request_cnt.value_counts().plot(kind = 'bar', rot = 0)\n",
    "plt.show()"
   ]
  },
  {
   "cell_type": "markdown",
   "metadata": {
    "id": "kQaTKA9kgc7F"
   },
   "source": [
    "These variables are skewed to the right."
   ]
  },
  {
   "cell_type": "code",
   "execution_count": null,
   "metadata": {
    "id": "50Bh9T6Kgc7F",
    "outputId": "3e55496f-4a27-489e-96b1-94024a6da7ac"
   },
   "outputs": [
    {
     "data": {
      "image/png": "[encoded data removed]",
      "text/plain": [
       "<Figure size 504x360 with 1 Axes>"
      ]
     },
     "metadata": {
      "needs_background": "light",
      "tags": []
     },
     "output_type": "display_data"
    }
   ],
   "source": [
    "# exploring the 'region_rating' variable\n",
    "train.region_rating.value_counts().plot(kind = 'bar', rot = 0)\n",
    "plt.show()"
   ]
  },
  {
   "cell_type": "markdown",
   "metadata": {
    "id": "iE8kYndrgc7H"
   },
   "source": [
    "Majority of the customers are from the region/regions with a rating of 50."
   ]
  },
  {
   "cell_type": "code",
   "execution_count": null,
   "metadata": {
    "id": "BysOgxE0gc7I",
    "outputId": "0095db8f-eea0-4e96-9997-fa983dbac51b"
   },
   "outputs": [
    {
     "data": {
      "image/png": "[encoded data removed]",
      "text/plain": [
       "<Figure size 504x360 with 1 Axes>"
      ]
     },
     "metadata": {
      "needs_background": "light",
      "tags": []
     },
     "output_type": "display_data"
    }
   ],
   "source": [
    "# exploring the 'home_address_cd' variable\n",
    "train.home_address_cd.value_counts().plot(kind = 'bar', rot = 0)\n",
    "plt.show()"
   ]
  },
  {
   "cell_type": "markdown",
   "metadata": {
    "id": "wRHbYqDMgc7K"
   },
   "source": [
    "Majority of the customers are in home address category 2."
   ]
  },
  {
   "cell_type": "code",
   "execution_count": null,
   "metadata": {
    "id": "6anINZQggc7K",
    "outputId": "2dc963df-5545-405c-afec-cb7882eb7689"
   },
   "outputs": [
    {
     "data": {
      "image/png": "[encoded data removed]",
      "text/plain": [
       "<Figure size 504x360 with 1 Axes>"
      ]
     },
     "metadata": {
      "needs_background": "light",
      "tags": []
     },
     "output_type": "display_data"
    }
   ],
   "source": [
    "# exploring the 'work_address_cd' variable\n",
    "train.work_address_cd.value_counts().plot(kind = 'bar', rot = 0)\n",
    "plt.show()"
   ]
  },
  {
   "cell_type": "markdown",
   "metadata": {
    "id": "8HrMY78Ugc7M"
   },
   "source": [
    "Majority of the customers are of work address category 3."
   ]
  },
  {
   "cell_type": "code",
   "execution_count": null,
   "metadata": {
    "id": "_2LA0JsTgc7N",
    "outputId": "eddb64bc-5d69-40be-dbf0-fdfef8e71534"
   },
   "outputs": [
    {
     "data": {
      "image/png": "[encoded data removed]",
      "text/plain": [
       "<Figure size 504x360 with 1 Axes>"
      ]
     },
     "metadata": {
      "needs_background": "light",
      "tags": []
     },
     "output_type": "display_data"
    }
   ],
   "source": [
    "# histogram of the income variable\n",
    "train.income.hist()\n",
    "plt.show()"
   ]
  },
  {
   "cell_type": "markdown",
   "metadata": {
    "id": "Hg_aI0R3gc7Q"
   },
   "source": [
    "The income variable is strongly skewed to the right."
   ]
  },
  {
   "cell_type": "code",
   "execution_count": null,
   "metadata": {
    "id": "QWOn-_MYgc7R",
    "outputId": "9bc22e26-4398-4bb5-fb95-6712194d05a4"
   },
   "outputs": [
    {
     "data": {
      "image/png": "[encoded data removed]",
      "text/plain": [
       "<Figure size 504x360 with 1 Axes>"
      ]
     },
     "metadata": {
      "needs_background": "light",
      "tags": []
     },
     "output_type": "display_data"
    }
   ],
   "source": [
    "# exploring the 'first_time_cd' variable\n",
    "train.first_time_cd.value_counts().plot(kind = 'bar', rot = 0)\n",
    "plt.show()"
   ]
  },
  {
   "cell_type": "markdown",
   "metadata": {
    "id": "wDLwZ5j1gc7U"
   },
   "source": [
    "Majority of the customers are associated with prescription code 3."
   ]
  },
  {
   "cell_type": "code",
   "execution_count": null,
   "metadata": {
    "id": "iqWYjVwxgc7U",
    "outputId": "b69ca415-982b-46af-be26-27605803f8cc"
   },
   "outputs": [
    {
     "data": {
      "image/png": "[encoded data removed]",
      "text/plain": [
       "<Figure size 504x360 with 1 Axes>"
      ]
     },
     "metadata": {
      "needs_background": "light",
      "tags": []
     },
     "output_type": "display_data"
    }
   ],
   "source": [
    "# exploring the 'Air_flg' variable\n",
    "train.Air_flg.value_counts().plot(kind = 'bar', rot = 0)\n",
    "plt.show()"
   ]
  },
  {
   "cell_type": "markdown",
   "metadata": {
    "id": "PN3PZVD_gc7X"
   },
   "source": [
    "Majority of the customers didn't have passports."
   ]
  },
  {
   "cell_type": "code",
   "execution_count": null,
   "metadata": {
    "id": "XlmhxlgXgc7Y",
    "outputId": "93718bce-e8f2-4467-85e8-f63ea9e65cf5"
   },
   "outputs": [
    {
     "data": {
      "image/png": "[encoded data removed]",
      "text/plain": [
       "<Figure size 504x360 with 1 Axes>"
      ]
     },
     "metadata": {
      "tags": []
     },
     "output_type": "display_data"
    }
   ],
   "source": [
    "# exploring the 'default_flg' variable\n",
    "train.default_flg.value_counts().plot(kind = 'pie', autopct = '%0.1f%%')\n",
    "plt.show()"
   ]
  },
  {
   "cell_type": "markdown",
   "metadata": {
    "id": "vdAssr8Ugc7Z"
   },
   "source": [
    "A huge majority of the customers did not default compared to those who did."
   ]
  },
  {
   "cell_type": "markdown",
   "metadata": {
    "id": "iMpl_1Wagc7b"
   },
   "source": [
    "## 3.2 Bivariate Analysis\n",
    "\n",
    "We will investigate how the target variable relates to the other variables."
   ]
  },
  {
   "cell_type": "code",
   "execution_count": null,
   "metadata": {
    "id": "D32y09-agc7b",
    "outputId": "7d1ec566-eb2d-4f5d-d3fa-deaf0b271d3d"
   },
   "outputs": [
    {
     "data": {
      "image/png": "[encoded data removed]",
      "text/plain": [
       "<Figure size 504x360 with 1 Axes>"
      ]
     },
     "metadata": {
      "needs_background": "light",
      "tags": []
     },
     "output_type": "display_data"
    }
   ],
   "source": [
    "# default_flg by application_month\n",
    "sns.countplot(x = 'application_month', hue = 'default_flg', data = train)\n",
    "plt.show()"
   ]
  },
  {
   "cell_type": "markdown",
   "metadata": {
    "id": "j2SPmB6Ggc7e"
   },
   "source": [
    "March reported slightly higher instances of people defaulting while April reported the lowest."
   ]
  },
  {
   "cell_type": "code",
   "execution_count": null,
   "metadata": {
    "id": "so2MsgEvgc7e",
    "outputId": "bc24e7f3-8eb7-449f-c769-904792a5152c"
   },
   "outputs": [
    {
     "data": {
      "image/png": "[encoded data removed]",
      "text/plain": [
       "<Figure size 504x360 with 1 Axes>"
      ]
     },
     "metadata": {
      "needs_background": "light",
      "tags": []
     },
     "output_type": "display_data"
    }
   ],
   "source": [
    "# default_flg by education_cd\n",
    "sns.countplot(x = 'education_cd', hue = 'default_flg', data = train)\n",
    "plt.show()"
   ]
  },
  {
   "cell_type": "markdown",
   "metadata": {
    "id": "uYjxvrE_gc7h"
   },
   "source": [
    "Those who attained education level of 'SCH' defaulted more than the other education groups. But this can be attributed to the fact that the proportion of those with education level 'SCH' make up the majority of this particular variable."
   ]
  },
  {
   "cell_type": "code",
   "execution_count": null,
   "metadata": {
    "id": "kGJOzsscgc7i",
    "outputId": "47219757-7634-4783-801b-e75841b324a0"
   },
   "outputs": [
    {
     "data": {
      "image/png": "[encoded data removed]",
      "text/plain": [
       "<Figure size 504x360 with 1 Axes>"
      ]
     },
     "metadata": {
      "needs_background": "light",
      "tags": []
     },
     "output_type": "display_data"
    }
   ],
   "source": [
    "# default_flg by gender_cd\n",
    "sns.countplot(x = 'gender_cd', hue = 'default_flg', data = train)\n",
    "plt.show()"
   ]
  },
  {
   "cell_type": "markdown",
   "metadata": {
    "id": "-2uxUIkpgc7k"
   },
   "source": [
    "Females appear to default slightly more than males."
   ]
  },
  {
   "cell_type": "code",
   "execution_count": null,
   "metadata": {
    "id": "D89rjGaOgc7k",
    "outputId": "2a5074d8-5de5-46f7-d987-b81b869a0575"
   },
   "outputs": [
    {
     "data": {
      "image/png": "[encoded data removed]",
      "text/plain": [
       "<Figure size 504x360 with 1 Axes>"
      ]
     },
     "metadata": {
      "needs_background": "light",
      "tags": []
     },
     "output_type": "display_data"
    }
   ],
   "source": [
    "# default_flg by car_own_flg\n",
    "sns.countplot(x = 'car_own_flg', hue = 'default_flg', data = train)\n",
    "plt.show()"
   ]
  },
  {
   "cell_type": "markdown",
   "metadata": {
    "id": "jrxa825Vgc7u"
   },
   "source": [
    "Those without cars defaulted more than those with cars. However, the number of those without cars greatly outnumbers those with cars."
   ]
  },
  {
   "cell_type": "code",
   "execution_count": null,
   "metadata": {
    "id": "kN-JQJyPgc7v",
    "outputId": "29b8087a-f144-4ba8-d893-c8c1bb087eea"
   },
   "outputs": [
    {
     "data": {
      "image/png": "[encoded data removed]",
      "text/plain": [
       "<Figure size 504x360 with 1 Axes>"
      ]
     },
     "metadata": {
      "needs_background": "light",
      "tags": []
     },
     "output_type": "display_data"
    }
   ],
   "source": [
    "# default_flg by car_type_flg\n",
    "sns.countplot(x = 'car_type_flg', hue = 'default_flg', data = train)\n",
    "plt.show()"
   ]
  },
  {
   "cell_type": "markdown",
   "metadata": {
    "id": "VIF-MIFzgc7z"
   },
   "source": [
    "Those without foreign cars defaulted more than those with."
   ]
  },
  {
   "cell_type": "code",
   "execution_count": null,
   "metadata": {
    "id": "ic6VCTusgc7z",
    "outputId": "9c75c607-69ab-4064-a534-47fdae211484"
   },
   "outputs": [
    {
     "data": {
      "image/png": "[encoded data removed]",
      "text/plain": [
       "<Figure size 504x360 with 1 Axes>"
      ]
     },
     "metadata": {
      "needs_background": "light",
      "tags": []
     },
     "output_type": "display_data"
    }
   ],
   "source": [
    "# default_flg by good_work_flg\n",
    "sns.countplot(x = 'good_work_flg', hue = 'default_flg', data = train)\n",
    "plt.show()"
   ]
  },
  {
   "cell_type": "markdown",
   "metadata": {
    "id": "ZbazRSUMgc71"
   },
   "source": [
    "Those who didn't have a good work flag defaulted more than those who did."
   ]
  },
  {
   "cell_type": "code",
   "execution_count": null,
   "metadata": {
    "id": "merFrJjpgc71",
    "outputId": "8ba952ed-72ed-41da-d813-473d4aeb271d"
   },
   "outputs": [
    {
     "data": {
      "image/png": "[encoded data removed]",
      "text/plain": [
       "<Figure size 1080x360 with 1 Axes>"
      ]
     },
     "metadata": {
      "needs_background": "light",
      "tags": []
     },
     "output_type": "display_data"
    }
   ],
   "source": [
    "# default_flg by out_request_cnt\n",
    "plt.figure(figsize = (15, 5))\n",
    "sns.countplot(x = 'out_request_cnt', hue = 'default_flg', data = train)\n",
    "plt.show()"
   ]
  },
  {
   "cell_type": "markdown",
   "metadata": {
    "id": "35u_E_xbgc79"
   },
   "source": [
    "Those with one number of requests in the bureau defaulted more than the others."
   ]
  },
  {
   "cell_type": "code",
   "execution_count": null,
   "metadata": {
    "id": "16UyScXrgc79",
    "outputId": "c60436b1-940d-46a5-a966-bdf9d8aa59b4"
   },
   "outputs": [
    {
     "data": {
      "image/png": "[encoded data removed]",
      "text/plain": [
       "<Figure size 504x360 with 1 Axes>"
      ]
     },
     "metadata": {
      "needs_background": "light",
      "tags": []
     },
     "output_type": "display_data"
    }
   ],
   "source": [
    "# default_flg by region_rating\n",
    "sns.countplot(x = 'region_rating', hue = 'default_flg', data = train)\n",
    "plt.show()"
   ]
  },
  {
   "cell_type": "markdown",
   "metadata": {
    "id": "zxFbjBv2gc7_"
   },
   "source": [
    "Those in regions rated 50 defaulted the most, followed by those in regions rated 40. Those in regions rated 20 and 30 defaulted the least."
   ]
  },
  {
   "cell_type": "code",
   "execution_count": null,
   "metadata": {
    "id": "C9q0V7Y_gc8A",
    "outputId": "2f435c42-60f2-4a32-f480-d14b13992e20"
   },
   "outputs": [
    {
     "data": {
      "image/png": "[encoded data removed]",
      "text/plain": [
       "<Figure size 504x360 with 1 Axes>"
      ]
     },
     "metadata": {
      "needs_background": "light",
      "tags": []
     },
     "output_type": "display_data"
    }
   ],
   "source": [
    "# default_flg by home_address_cd\n",
    "sns.countplot(x = 'home_address_cd', hue = 'default_flg', data = train)\n",
    "plt.show()"
   ]
  },
  {
   "cell_type": "markdown",
   "metadata": {
    "id": "6E34mlEagc8C"
   },
   "source": [
    "Those in home address code 2 defaulted the most."
   ]
  },
  {
   "cell_type": "code",
   "execution_count": null,
   "metadata": {
    "id": "mKslgqxUgc8C",
    "outputId": "d9a7a83d-8197-4d96-de69-e526463dcab9"
   },
   "outputs": [
    {
     "data": {
      "image/png": "[encoded data removed]",
      "text/plain": [
       "<Figure size 504x360 with 1 Axes>"
      ]
     },
     "metadata": {
      "needs_background": "light",
      "tags": []
     },
     "output_type": "display_data"
    }
   ],
   "source": [
    "# default_flg by work_address_cd\n",
    "sns.countplot(x = 'work_address_cd', hue = 'default_flg', data = train)\n",
    "plt.show()"
   ]
  },
  {
   "cell_type": "markdown",
   "metadata": {
    "id": "UL6XQhM3gc8L"
   },
   "source": [
    "Those in work address code 3 defaulted the most."
   ]
  },
  {
   "cell_type": "code",
   "execution_count": null,
   "metadata": {
    "id": "aQ4eWEoKgc8L",
    "outputId": "1632f9ae-e56e-4092-a9dd-53f5e48130cd"
   },
   "outputs": [
    {
     "data": {
      "image/png": "[encoded data removed]",
      "text/plain": [
       "<Figure size 504x360 with 1 Axes>"
      ]
     },
     "metadata": {
      "needs_background": "light",
      "tags": []
     },
     "output_type": "display_data"
    }
   ],
   "source": [
    "# default_flg by SNA\n",
    "sns.countplot(x = 'SNA', hue = 'default_flg', data = train)\n",
    "plt.show()"
   ]
  },
  {
   "cell_type": "markdown",
   "metadata": {
    "id": "kv9xDajpgc8O"
   },
   "source": [
    "Those of SNA code 1 defaulted the most while those in code 3 defaulted the least."
   ]
  },
  {
   "cell_type": "code",
   "execution_count": null,
   "metadata": {
    "id": "RpZTd1v4gc8O",
    "outputId": "98977aca-d842-4962-857c-bc68de75226e"
   },
   "outputs": [
    {
     "data": {
      "image/png": "[encoded data removed]",
      "text/plain": [
       "<Figure size 504x360 with 1 Axes>"
      ]
     },
     "metadata": {
      "needs_background": "light",
      "tags": []
     },
     "output_type": "display_data"
    }
   ],
   "source": [
    "# default_flg by first_time_cd\n",
    "sns.countplot(x = 'first_time_cd', hue = 'default_flg', data = train)\n",
    "plt.show()"
   ]
  },
  {
   "cell_type": "markdown",
   "metadata": {
    "id": "667oBkDPgc8T"
   },
   "source": [
    "Customers with first_time_cd of 3 defaulted the most. Those with a first_time_cd of 4 defaulted the least."
   ]
  },
  {
   "cell_type": "code",
   "execution_count": null,
   "metadata": {
    "id": "MGccQCwJgc8T",
    "outputId": "8196d9a4-ae35-4663-b937-29cfa1c8f49b"
   },
   "outputs": [
    {
     "data": {
      "image/png": "[encoded data removed]",
      "text/plain": [
       "<Figure size 504x360 with 1 Axes>"
      ]
     },
     "metadata": {
      "needs_background": "light",
      "tags": []
     },
     "output_type": "display_data"
    }
   ],
   "source": [
    "# default_flg by Air_flg\n",
    "sns.countplot(x = 'Air_flg', hue = 'default_flg', data = train)\n",
    "plt.show()"
   ]
  },
  {
   "cell_type": "markdown",
   "metadata": {
    "id": "xORpH7emgc8b"
   },
   "source": [
    "Those without passports defaulted more than those with."
   ]
  },
  {
   "cell_type": "code",
   "execution_count": null,
   "metadata": {
    "id": "HeVs79Wvgc8c",
    "outputId": "0000250c-d6b8-49ef-a3a1-f038c956917f"
   },
   "outputs": [
    {
     "data": {
      "image/png": "[encoded data removed]",
      "text/plain": [
       "<Figure size 864x288 with 2 Axes>"
      ]
     },
     "metadata": {
      "needs_background": "light",
      "tags": []
     },
     "output_type": "display_data"
    }
   ],
   "source": [
    "# default_flg by age\n",
    "fig, axes = plt.subplots(nrows = 1, ncols = 2, figsize = (12, 4))\n",
    "\n",
    "# age when default_flg is 0\n",
    "plt.subplot(1, 2, 1)\n",
    "train.loc[train.default_flg == 0].age.hist(color = 'green')\n",
    "plt.title(\"Age of Non-Defaulters\")\n",
    "\n",
    "# age when default_flg = 1\n",
    "plt.subplot(1, 2, 2)\n",
    "train.loc[train.default_flg == 1].age.hist(color = 'red')\n",
    "plt.title(\"Age of Defaulters\")\n",
    "\n",
    "plt.show()"
   ]
  },
  {
   "cell_type": "markdown",
   "metadata": {
    "id": "nWjy5JTXgc8e"
   },
   "source": [
    "There doesn't seem to be a significant difference in the ages of those who defaulted and those who didn't."
   ]
  },
  {
   "cell_type": "code",
   "execution_count": null,
   "metadata": {
    "id": "ahR5oHXzgc8e",
    "outputId": "94c82a15-d2f0-497c-ce00-265a8f0962cd"
   },
   "outputs": [
    {
     "data": {
      "image/png": "[encoded data removed]",
      "text/plain": [
       "<Figure size 864x288 with 2 Axes>"
      ]
     },
     "metadata": {
      "needs_background": "light",
      "tags": []
     },
     "output_type": "display_data"
    }
   ],
   "source": [
    "# default_flg by income\n",
    "fig, axes = plt.subplots(nrows = 1, ncols = 2, figsize = (12, 4))\n",
    "\n",
    "# income when default_flg is 0\n",
    "plt.subplot(1, 2, 1)\n",
    "train.loc[train.default_flg == 0].income.hist(color = 'green')\n",
    "plt.title(\"Income of Non-Defaulters\")\n",
    "\n",
    "# income when default_flg is 1\n",
    "plt.subplot(1, 2, 2)\n",
    "train.loc[train.default_flg == 1].income.hist(color = 'red')\n",
    "plt.title(\"Income of Defaulters\")\n",
    "\n",
    "plt.show()"
   ]
  },
  {
   "cell_type": "markdown",
   "metadata": {
    "id": "UFTfLQkogc8h"
   },
   "source": [
    "There doesn't seem to be a significant difference in the income of those who defaulted and that of those who didn't."
   ]
  },
  {
   "cell_type": "code",
   "execution_count": null,
   "metadata": {
    "id": "y3wllTH8gc8h",
    "outputId": "234de3f1-5369-4701-b86f-943b499bc478"
   },
   "outputs": [
    {
     "data": {
      "image/png": "[encoded data removed]",
      "text/plain": [
       "<Figure size 864x864 with 2 Axes>"
      ]
     },
     "metadata": {
      "needs_background": "light",
      "tags": []
     },
     "output_type": "display_data"
    }
   ],
   "source": [
    "# creating a heatmap of the correlations between the variables\n",
    "plt.figure(figsize = (12, 12))\n",
    "sns.heatmap(train.corr(), cmap = 'coolwarm', annot = True)\n",
    "plt.show()"
   ]
  },
  {
   "cell_type": "markdown",
   "metadata": {
    "id": "TSyCJF76gc8j"
   },
   "source": [
    "Here we see that 'home_address_cd' and 'work_address_cd' are highly correlated with each other while 'first_time_cd' and 'SNA' are inversely correlated with each other."
   ]
  },
  {
   "cell_type": "markdown",
   "metadata": {
    "id": "S7w-kpl8gc8j"
   },
   "source": [
    "## 3.3 Feature Engineering"
   ]
  },
  {
   "cell_type": "code",
   "execution_count": null,
   "metadata": {
    "id": "xZSHT-dIgc8k",
    "outputId": "31e2c50e-724c-4425-8416-1c0da93ef96d"
   },
   "outputs": [
    {
     "data": {
      "text/html": [
       "<div>\n",
       "<style scoped>\n",
       "    .dataframe tbody tr th:only-of-type {\n",
       "        vertical-align: middle;\n",
       "    }\n",
       "\n",
       "    .dataframe tbody tr th {\n",
       "        vertical-align: top;\n",
       "    }\n",
       "\n",
       "    .dataframe thead th {\n",
       "        text-align: right;\n",
       "    }\n",
       "</style>\n",
       "<table border=\"1\" class=\"dataframe\">\n",
       "  <thead>\n",
       "    <tr style=\"text-align: right;\">\n",
       "      <th></th>\n",
       "      <th>age</th>\n",
       "      <th>appl_rej_cnt</th>\n",
       "      <th>good_work_flg</th>\n",
       "      <th>Score_bki</th>\n",
       "      <th>out_request_cnt</th>\n",
       "      <th>region_rating</th>\n",
       "      <th>home_address_cd</th>\n",
       "      <th>work_address_cd</th>\n",
       "      <th>income</th>\n",
       "      <th>SNA</th>\n",
       "      <th>first_time_cd</th>\n",
       "      <th>default_flg</th>\n",
       "    </tr>\n",
       "  </thead>\n",
       "  <tbody>\n",
       "    <tr>\n",
       "      <th>count</th>\n",
       "      <td>110148.000000</td>\n",
       "      <td>110148.000000</td>\n",
       "      <td>110148.000000</td>\n",
       "      <td>110148.000000</td>\n",
       "      <td>110148.000000</td>\n",
       "      <td>110148.000000</td>\n",
       "      <td>110148.000000</td>\n",
       "      <td>110148.000000</td>\n",
       "      <td>110148.000000</td>\n",
       "      <td>110148.000000</td>\n",
       "      <td>110148.000000</td>\n",
       "      <td>110148.000000</td>\n",
       "    </tr>\n",
       "    <tr>\n",
       "      <th>mean</th>\n",
       "      <td>39.249410</td>\n",
       "      <td>0.273205</td>\n",
       "      <td>0.165514</td>\n",
       "      <td>-1.904535</td>\n",
       "      <td>2.005002</td>\n",
       "      <td>56.751189</td>\n",
       "      <td>1.574945</td>\n",
       "      <td>2.497867</td>\n",
       "      <td>41012.648537</td>\n",
       "      <td>1.731588</td>\n",
       "      <td>2.765570</td>\n",
       "      <td>0.126775</td>\n",
       "    </tr>\n",
       "    <tr>\n",
       "      <th>std</th>\n",
       "      <td>11.518063</td>\n",
       "      <td>0.799099</td>\n",
       "      <td>0.371645</td>\n",
       "      <td>0.499397</td>\n",
       "      <td>2.266926</td>\n",
       "      <td>13.065923</td>\n",
       "      <td>0.527562</td>\n",
       "      <td>0.687651</td>\n",
       "      <td>45399.735051</td>\n",
       "      <td>1.122652</td>\n",
       "      <td>1.010151</td>\n",
       "      <td>0.332722</td>\n",
       "    </tr>\n",
       "    <tr>\n",
       "      <th>min</th>\n",
       "      <td>21.000000</td>\n",
       "      <td>0.000000</td>\n",
       "      <td>0.000000</td>\n",
       "      <td>-3.624586</td>\n",
       "      <td>0.000000</td>\n",
       "      <td>20.000000</td>\n",
       "      <td>1.000000</td>\n",
       "      <td>1.000000</td>\n",
       "      <td>1000.000000</td>\n",
       "      <td>1.000000</td>\n",
       "      <td>1.000000</td>\n",
       "      <td>0.000000</td>\n",
       "    </tr>\n",
       "    <tr>\n",
       "      <th>25%</th>\n",
       "      <td>30.000000</td>\n",
       "      <td>0.000000</td>\n",
       "      <td>0.000000</td>\n",
       "      <td>-2.260434</td>\n",
       "      <td>0.000000</td>\n",
       "      <td>50.000000</td>\n",
       "      <td>1.000000</td>\n",
       "      <td>2.000000</td>\n",
       "      <td>20000.000000</td>\n",
       "      <td>1.000000</td>\n",
       "      <td>2.000000</td>\n",
       "      <td>0.000000</td>\n",
       "    </tr>\n",
       "    <tr>\n",
       "      <th>50%</th>\n",
       "      <td>37.000000</td>\n",
       "      <td>0.000000</td>\n",
       "      <td>0.000000</td>\n",
       "      <td>-1.920823</td>\n",
       "      <td>1.000000</td>\n",
       "      <td>50.000000</td>\n",
       "      <td>2.000000</td>\n",
       "      <td>3.000000</td>\n",
       "      <td>30000.000000</td>\n",
       "      <td>1.000000</td>\n",
       "      <td>3.000000</td>\n",
       "      <td>0.000000</td>\n",
       "    </tr>\n",
       "    <tr>\n",
       "      <th>75%</th>\n",
       "      <td>48.000000</td>\n",
       "      <td>0.000000</td>\n",
       "      <td>0.000000</td>\n",
       "      <td>-1.567888</td>\n",
       "      <td>3.000000</td>\n",
       "      <td>60.000000</td>\n",
       "      <td>2.000000</td>\n",
       "      <td>3.000000</td>\n",
       "      <td>48000.000000</td>\n",
       "      <td>2.000000</td>\n",
       "      <td>4.000000</td>\n",
       "      <td>0.000000</td>\n",
       "    </tr>\n",
       "    <tr>\n",
       "      <th>max</th>\n",
       "      <td>72.000000</td>\n",
       "      <td>33.000000</td>\n",
       "      <td>1.000000</td>\n",
       "      <td>0.199773</td>\n",
       "      <td>53.000000</td>\n",
       "      <td>80.000000</td>\n",
       "      <td>3.000000</td>\n",
       "      <td>3.000000</td>\n",
       "      <td>1000000.000000</td>\n",
       "      <td>4.000000</td>\n",
       "      <td>4.000000</td>\n",
       "      <td>1.000000</td>\n",
       "    </tr>\n",
       "  </tbody>\n",
       "</table>\n",
       "</div>"
      ],
      "text/plain": [
       "                 age   appl_rej_cnt  good_work_flg      Score_bki  \\\n",
       "count  110148.000000  110148.000000  110148.000000  110148.000000   \n",
       "mean       39.249410       0.273205       0.165514      -1.904535   \n",
       "std        11.518063       0.799099       0.371645       0.499397   \n",
       "min        21.000000       0.000000       0.000000      -3.624586   \n",
       "25%        30.000000       0.000000       0.000000      -2.260434   \n",
       "50%        37.000000       0.000000       0.000000      -1.920823   \n",
       "75%        48.000000       0.000000       0.000000      -1.567888   \n",
       "max        72.000000      33.000000       1.000000       0.199773   \n",
       "\n",
       "       out_request_cnt  region_rating  home_address_cd  work_address_cd  \\\n",
       "count    110148.000000  110148.000000    110148.000000    110148.000000   \n",
       "mean          2.005002      56.751189         1.574945         2.497867   \n",
       "std           2.266926      13.065923         0.527562         0.687651   \n",
       "min           0.000000      20.000000         1.000000         1.000000   \n",
       "25%           0.000000      50.000000         1.000000         2.000000   \n",
       "50%           1.000000      50.000000         2.000000         3.000000   \n",
       "75%           3.000000      60.000000         2.000000         3.000000   \n",
       "max          53.000000      80.000000         3.000000         3.000000   \n",
       "\n",
       "               income            SNA  first_time_cd    default_flg  \n",
       "count   110148.000000  110148.000000  110148.000000  110148.000000  \n",
       "mean     41012.648537       1.731588       2.765570       0.126775  \n",
       "std      45399.735051       1.122652       1.010151       0.332722  \n",
       "min       1000.000000       1.000000       1.000000       0.000000  \n",
       "25%      20000.000000       1.000000       2.000000       0.000000  \n",
       "50%      30000.000000       1.000000       3.000000       0.000000  \n",
       "75%      48000.000000       2.000000       4.000000       0.000000  \n",
       "max    1000000.000000       4.000000       4.000000       1.000000  "
      ]
     },
     "execution_count": 43,
     "metadata": {
      "tags": []
     },
     "output_type": "execute_result"
    }
   ],
   "source": [
    "train.describe()"
   ]
  },
  {
   "cell_type": "code",
   "execution_count": null,
   "metadata": {
    "id": "kJdKN6lugc8o"
   },
   "outputs": [],
   "source": [
    "# binning our numerical variables\n",
    "# binning age\n",
    "interval = (18, 25, 35, 60, 90)\n",
    "categories = ['student', 'youth', 'adult', 'senior']\n",
    "train[\"age\"] = pd.cut(train.age, interval, labels = categories)\n",
    "\n",
    "# binning Score_bki\n",
    "train[\"Score_bki\"] = pd.qcut(train.Score_bki, q = 4)\n",
    "\n",
    "# binning income\n",
    "train[\"income\"] = pd.qcut(train.income, q = 10)"
   ]
  },
  {
   "cell_type": "code",
   "execution_count": null,
   "metadata": {
    "id": "OMjuO1fCgc8p",
    "outputId": "66ef097b-b511-4ec5-e2bb-c0fe7aa10ebf"
   },
   "outputs": [
    {
     "data": {
      "text/html": [
       "<div>\n",
       "<style scoped>\n",
       "    .dataframe tbody tr th:only-of-type {\n",
       "        vertical-align: middle;\n",
       "    }\n",
       "\n",
       "    .dataframe tbody tr th {\n",
       "        vertical-align: top;\n",
       "    }\n",
       "\n",
       "    .dataframe thead th {\n",
       "        text-align: right;\n",
       "    }\n",
       "</style>\n",
       "<table border=\"1\" class=\"dataframe\">\n",
       "  <thead>\n",
       "    <tr style=\"text-align: right;\">\n",
       "      <th></th>\n",
       "      <th>application_day</th>\n",
       "      <th>application_month</th>\n",
       "      <th>education_cd</th>\n",
       "      <th>gender_cd</th>\n",
       "      <th>age</th>\n",
       "      <th>car_own_flg</th>\n",
       "      <th>car_type_flg</th>\n",
       "      <th>appl_rej_cnt</th>\n",
       "      <th>good_work_flg</th>\n",
       "      <th>Score_bki</th>\n",
       "      <th>out_request_cnt</th>\n",
       "      <th>region_rating</th>\n",
       "      <th>home_address_cd</th>\n",
       "      <th>work_address_cd</th>\n",
       "      <th>income</th>\n",
       "      <th>SNA</th>\n",
       "      <th>first_time_cd</th>\n",
       "      <th>Air_flg</th>\n",
       "      <th>default_flg</th>\n",
       "    </tr>\n",
       "    <tr>\n",
       "      <th>id</th>\n",
       "      <th></th>\n",
       "      <th></th>\n",
       "      <th></th>\n",
       "      <th></th>\n",
       "      <th></th>\n",
       "      <th></th>\n",
       "      <th></th>\n",
       "      <th></th>\n",
       "      <th></th>\n",
       "      <th></th>\n",
       "      <th></th>\n",
       "      <th></th>\n",
       "      <th></th>\n",
       "      <th></th>\n",
       "      <th></th>\n",
       "      <th></th>\n",
       "      <th></th>\n",
       "      <th></th>\n",
       "      <th></th>\n",
       "    </tr>\n",
       "  </thead>\n",
       "  <tbody>\n",
       "    <tr>\n",
       "      <th>57099</th>\n",
       "      <td>05</td>\n",
       "      <td>3</td>\n",
       "      <td>SCH</td>\n",
       "      <td>F</td>\n",
       "      <td>adult</td>\n",
       "      <td>Y</td>\n",
       "      <td>Y</td>\n",
       "      <td>0</td>\n",
       "      <td>0</td>\n",
       "      <td>(-3.626, -2.26]</td>\n",
       "      <td>4</td>\n",
       "      <td>60</td>\n",
       "      <td>1</td>\n",
       "      <td>3</td>\n",
       "      <td>(40000.0, 50000.0]</td>\n",
       "      <td>4</td>\n",
       "      <td>1</td>\n",
       "      <td>N</td>\n",
       "      <td>0</td>\n",
       "    </tr>\n",
       "    <tr>\n",
       "      <th>14603</th>\n",
       "      <td>22</td>\n",
       "      <td>1</td>\n",
       "      <td>SCH</td>\n",
       "      <td>F</td>\n",
       "      <td>student</td>\n",
       "      <td>N</td>\n",
       "      <td>N</td>\n",
       "      <td>0</td>\n",
       "      <td>0</td>\n",
       "      <td>(-1.921, -1.568]</td>\n",
       "      <td>3</td>\n",
       "      <td>50</td>\n",
       "      <td>2</td>\n",
       "      <td>3</td>\n",
       "      <td>(14000.0, 18000.0]</td>\n",
       "      <td>4</td>\n",
       "      <td>1</td>\n",
       "      <td>N</td>\n",
       "      <td>0</td>\n",
       "    </tr>\n",
       "    <tr>\n",
       "      <th>76188</th>\n",
       "      <td>24</td>\n",
       "      <td>3</td>\n",
       "      <td>SCH</td>\n",
       "      <td>M</td>\n",
       "      <td>youth</td>\n",
       "      <td>N</td>\n",
       "      <td>N</td>\n",
       "      <td>0</td>\n",
       "      <td>0</td>\n",
       "      <td>(-1.921, -1.568]</td>\n",
       "      <td>1</td>\n",
       "      <td>50</td>\n",
       "      <td>2</td>\n",
       "      <td>3</td>\n",
       "      <td>(40000.0, 50000.0]</td>\n",
       "      <td>2</td>\n",
       "      <td>3</td>\n",
       "      <td>N</td>\n",
       "      <td>0</td>\n",
       "    </tr>\n",
       "  </tbody>\n",
       "</table>\n",
       "</div>"
      ],
      "text/plain": [
       "      application_day  application_month education_cd gender_cd      age  \\\n",
       "id                                                                         \n",
       "57099              05                  3          SCH         F    adult   \n",
       "14603              22                  1          SCH         F  student   \n",
       "76188              24                  3          SCH         M    youth   \n",
       "\n",
       "      car_own_flg car_type_flg  appl_rej_cnt  good_work_flg         Score_bki  \\\n",
       "id                                                                              \n",
       "57099           Y            Y             0              0   (-3.626, -2.26]   \n",
       "14603           N            N             0              0  (-1.921, -1.568]   \n",
       "76188           N            N             0              0  (-1.921, -1.568]   \n",
       "\n",
       "       out_request_cnt  region_rating  home_address_cd  work_address_cd  \\\n",
       "id                                                                        \n",
       "57099                4             60                1                3   \n",
       "14603                3             50                2                3   \n",
       "76188                1             50                2                3   \n",
       "\n",
       "                   income  SNA  first_time_cd Air_flg  default_flg  \n",
       "id                                                                  \n",
       "57099  (40000.0, 50000.0]    4              1       N            0  \n",
       "14603  (14000.0, 18000.0]    4              1       N            0  \n",
       "76188  (40000.0, 50000.0]    2              3       N            0  "
      ]
     },
     "execution_count": 45,
     "metadata": {
      "tags": []
     },
     "output_type": "execute_result"
    }
   ],
   "source": [
    "# encode 'application_month' \n",
    "def encode_month(month):\n",
    "    if month == 'JAN':\n",
    "        month = 1\n",
    "    elif month == 'FEB':\n",
    "        month = 2\n",
    "    elif month == 'MAR':\n",
    "        month = 3\n",
    "    elif month == 'APR':\n",
    "        month = 4\n",
    "    return month\n",
    "\n",
    "train['application_month'] = train['application_month'].apply(lambda x : encode_month(x))\n",
    "train.sample(3)"
   ]
  },
  {
   "cell_type": "code",
   "execution_count": null,
   "metadata": {
    "id": "oj35FbMhgc8s"
   },
   "outputs": [],
   "source": [
    "# set application_day and application_month to category dtype\n",
    "train['application_day'] = train['application_day'].astype('category')\n",
    "train['application_month'] = train['application_month'].astype('category')"
   ]
  },
  {
   "cell_type": "code",
   "execution_count": null,
   "metadata": {
    "id": "v8AZrEGOgc8v",
    "outputId": "e1ff09d3-b468-4221-812c-41e350c4c5bd"
   },
   "outputs": [
    {
     "data": {
      "text/html": [
       "<div>\n",
       "<style scoped>\n",
       "    .dataframe tbody tr th:only-of-type {\n",
       "        vertical-align: middle;\n",
       "    }\n",
       "\n",
       "    .dataframe tbody tr th {\n",
       "        vertical-align: top;\n",
       "    }\n",
       "\n",
       "    .dataframe thead th {\n",
       "        text-align: right;\n",
       "    }\n",
       "</style>\n",
       "<table border=\"1\" class=\"dataframe\">\n",
       "  <thead>\n",
       "    <tr style=\"text-align: right;\">\n",
       "      <th></th>\n",
       "      <th>application_day</th>\n",
       "      <th>application_month</th>\n",
       "      <th>appl_rej_cnt</th>\n",
       "      <th>good_work_flg</th>\n",
       "      <th>out_request_cnt</th>\n",
       "      <th>region_rating</th>\n",
       "      <th>home_address_cd</th>\n",
       "      <th>work_address_cd</th>\n",
       "      <th>SNA</th>\n",
       "      <th>first_time_cd</th>\n",
       "      <th>default_flg</th>\n",
       "      <th>education_cd_GRD</th>\n",
       "      <th>education_cd_N/A</th>\n",
       "      <th>education_cd_PGR</th>\n",
       "      <th>education_cd_SCH</th>\n",
       "      <th>education_cd_UGR</th>\n",
       "      <th>gender_cd_M</th>\n",
       "      <th>car_own_flg_Y</th>\n",
       "      <th>car_type_flg_Y</th>\n",
       "      <th>Air_flg_Y</th>\n",
       "      <th>age_youth</th>\n",
       "      <th>age_adult</th>\n",
       "      <th>age_senior</th>\n",
       "      <th>Score_bki_(-2.26, -1.921]</th>\n",
       "      <th>Score_bki_(-1.921, -1.568]</th>\n",
       "      <th>Score_bki_(-1.568, 0.2]</th>\n",
       "      <th>income_(14000.0, 18000.0]</th>\n",
       "      <th>income_(18000.0, 22000.0]</th>\n",
       "      <th>income_(22000.0, 25000.0]</th>\n",
       "      <th>income_(25000.0, 30000.0]</th>\n",
       "      <th>income_(30000.0, 35000.0]</th>\n",
       "      <th>income_(35000.0, 40000.0]</th>\n",
       "      <th>income_(40000.0, 50000.0]</th>\n",
       "      <th>income_(50000.0, 70000.0]</th>\n",
       "      <th>income_(70000.0, 1000000.0]</th>\n",
       "    </tr>\n",
       "    <tr>\n",
       "      <th>id</th>\n",
       "      <th></th>\n",
       "      <th></th>\n",
       "      <th></th>\n",
       "      <th></th>\n",
       "      <th></th>\n",
       "      <th></th>\n",
       "      <th></th>\n",
       "      <th></th>\n",
       "      <th></th>\n",
       "      <th></th>\n",
       "      <th></th>\n",
       "      <th></th>\n",
       "      <th></th>\n",
       "      <th></th>\n",
       "      <th></th>\n",
       "      <th></th>\n",
       "      <th></th>\n",
       "      <th></th>\n",
       "      <th></th>\n",
       "      <th></th>\n",
       "      <th></th>\n",
       "      <th></th>\n",
       "      <th></th>\n",
       "      <th></th>\n",
       "      <th></th>\n",
       "      <th></th>\n",
       "      <th></th>\n",
       "      <th></th>\n",
       "      <th></th>\n",
       "      <th></th>\n",
       "      <th></th>\n",
       "      <th></th>\n",
       "      <th></th>\n",
       "      <th></th>\n",
       "      <th></th>\n",
       "    </tr>\n",
       "  </thead>\n",
       "  <tbody>\n",
       "    <tr>\n",
       "      <th>2140</th>\n",
       "      <td>07</td>\n",
       "      <td>1</td>\n",
       "      <td>0</td>\n",
       "      <td>0</td>\n",
       "      <td>4</td>\n",
       "      <td>50</td>\n",
       "      <td>1</td>\n",
       "      <td>2</td>\n",
       "      <td>1</td>\n",
       "      <td>3</td>\n",
       "      <td>0</td>\n",
       "      <td>0</td>\n",
       "      <td>0</td>\n",
       "      <td>0</td>\n",
       "      <td>0</td>\n",
       "      <td>1</td>\n",
       "      <td>1</td>\n",
       "      <td>1</td>\n",
       "      <td>1</td>\n",
       "      <td>0</td>\n",
       "      <td>1</td>\n",
       "      <td>0</td>\n",
       "      <td>0</td>\n",
       "      <td>1</td>\n",
       "      <td>0</td>\n",
       "      <td>0</td>\n",
       "      <td>0</td>\n",
       "      <td>0</td>\n",
       "      <td>0</td>\n",
       "      <td>0</td>\n",
       "      <td>0</td>\n",
       "      <td>1</td>\n",
       "      <td>0</td>\n",
       "      <td>0</td>\n",
       "      <td>0</td>\n",
       "    </tr>\n",
       "    <tr>\n",
       "      <th>40514</th>\n",
       "      <td>17</td>\n",
       "      <td>2</td>\n",
       "      <td>0</td>\n",
       "      <td>1</td>\n",
       "      <td>5</td>\n",
       "      <td>50</td>\n",
       "      <td>1</td>\n",
       "      <td>2</td>\n",
       "      <td>2</td>\n",
       "      <td>2</td>\n",
       "      <td>0</td>\n",
       "      <td>1</td>\n",
       "      <td>0</td>\n",
       "      <td>0</td>\n",
       "      <td>0</td>\n",
       "      <td>0</td>\n",
       "      <td>0</td>\n",
       "      <td>0</td>\n",
       "      <td>0</td>\n",
       "      <td>0</td>\n",
       "      <td>0</td>\n",
       "      <td>1</td>\n",
       "      <td>0</td>\n",
       "      <td>0</td>\n",
       "      <td>1</td>\n",
       "      <td>0</td>\n",
       "      <td>0</td>\n",
       "      <td>0</td>\n",
       "      <td>0</td>\n",
       "      <td>0</td>\n",
       "      <td>0</td>\n",
       "      <td>0</td>\n",
       "      <td>0</td>\n",
       "      <td>1</td>\n",
       "      <td>0</td>\n",
       "    </tr>\n",
       "    <tr>\n",
       "      <th>12543</th>\n",
       "      <td>20</td>\n",
       "      <td>1</td>\n",
       "      <td>0</td>\n",
       "      <td>0</td>\n",
       "      <td>4</td>\n",
       "      <td>80</td>\n",
       "      <td>2</td>\n",
       "      <td>3</td>\n",
       "      <td>1</td>\n",
       "      <td>1</td>\n",
       "      <td>0</td>\n",
       "      <td>0</td>\n",
       "      <td>0</td>\n",
       "      <td>0</td>\n",
       "      <td>1</td>\n",
       "      <td>0</td>\n",
       "      <td>0</td>\n",
       "      <td>0</td>\n",
       "      <td>0</td>\n",
       "      <td>0</td>\n",
       "      <td>1</td>\n",
       "      <td>0</td>\n",
       "      <td>0</td>\n",
       "      <td>0</td>\n",
       "      <td>0</td>\n",
       "      <td>1</td>\n",
       "      <td>0</td>\n",
       "      <td>0</td>\n",
       "      <td>1</td>\n",
       "      <td>0</td>\n",
       "      <td>0</td>\n",
       "      <td>0</td>\n",
       "      <td>0</td>\n",
       "      <td>0</td>\n",
       "      <td>0</td>\n",
       "    </tr>\n",
       "    <tr>\n",
       "      <th>35989</th>\n",
       "      <td>12</td>\n",
       "      <td>2</td>\n",
       "      <td>0</td>\n",
       "      <td>0</td>\n",
       "      <td>0</td>\n",
       "      <td>70</td>\n",
       "      <td>1</td>\n",
       "      <td>3</td>\n",
       "      <td>1</td>\n",
       "      <td>4</td>\n",
       "      <td>0</td>\n",
       "      <td>0</td>\n",
       "      <td>0</td>\n",
       "      <td>0</td>\n",
       "      <td>1</td>\n",
       "      <td>0</td>\n",
       "      <td>1</td>\n",
       "      <td>1</td>\n",
       "      <td>0</td>\n",
       "      <td>1</td>\n",
       "      <td>0</td>\n",
       "      <td>1</td>\n",
       "      <td>0</td>\n",
       "      <td>0</td>\n",
       "      <td>0</td>\n",
       "      <td>0</td>\n",
       "      <td>0</td>\n",
       "      <td>0</td>\n",
       "      <td>0</td>\n",
       "      <td>0</td>\n",
       "      <td>0</td>\n",
       "      <td>0</td>\n",
       "      <td>0</td>\n",
       "      <td>0</td>\n",
       "      <td>1</td>\n",
       "    </tr>\n",
       "    <tr>\n",
       "      <th>26501</th>\n",
       "      <td>02</td>\n",
       "      <td>2</td>\n",
       "      <td>0</td>\n",
       "      <td>0</td>\n",
       "      <td>0</td>\n",
       "      <td>50</td>\n",
       "      <td>1</td>\n",
       "      <td>2</td>\n",
       "      <td>3</td>\n",
       "      <td>2</td>\n",
       "      <td>0</td>\n",
       "      <td>0</td>\n",
       "      <td>0</td>\n",
       "      <td>0</td>\n",
       "      <td>1</td>\n",
       "      <td>0</td>\n",
       "      <td>0</td>\n",
       "      <td>1</td>\n",
       "      <td>1</td>\n",
       "      <td>0</td>\n",
       "      <td>0</td>\n",
       "      <td>0</td>\n",
       "      <td>0</td>\n",
       "      <td>0</td>\n",
       "      <td>0</td>\n",
       "      <td>1</td>\n",
       "      <td>0</td>\n",
       "      <td>1</td>\n",
       "      <td>0</td>\n",
       "      <td>0</td>\n",
       "      <td>0</td>\n",
       "      <td>0</td>\n",
       "      <td>0</td>\n",
       "      <td>0</td>\n",
       "      <td>0</td>\n",
       "    </tr>\n",
       "  </tbody>\n",
       "</table>\n",
       "</div>"
      ],
      "text/plain": [
       "      application_day application_month  appl_rej_cnt  good_work_flg  \\\n",
       "id                                                                     \n",
       "2140               07                 1             0              0   \n",
       "40514              17                 2             0              1   \n",
       "12543              20                 1             0              0   \n",
       "35989              12                 2             0              0   \n",
       "26501              02                 2             0              0   \n",
       "\n",
       "       out_request_cnt  region_rating  home_address_cd  work_address_cd  SNA  \\\n",
       "id                                                                             \n",
       "2140                 4             50                1                2    1   \n",
       "40514                5             50                1                2    2   \n",
       "12543                4             80                2                3    1   \n",
       "35989                0             70                1                3    1   \n",
       "26501                0             50                1                2    3   \n",
       "\n",
       "       first_time_cd  default_flg  education_cd_GRD  education_cd_N/A  \\\n",
       "id                                                                      \n",
       "2140               3            0                 0                 0   \n",
       "40514              2            0                 1                 0   \n",
       "12543              1            0                 0                 0   \n",
       "35989              4            0                 0                 0   \n",
       "26501              2            0                 0                 0   \n",
       "\n",
       "       education_cd_PGR  education_cd_SCH  education_cd_UGR  gender_cd_M  \\\n",
       "id                                                                         \n",
       "2140                  0                 0                 1            1   \n",
       "40514                 0                 0                 0            0   \n",
       "12543                 0                 1                 0            0   \n",
       "35989                 0                 1                 0            1   \n",
       "26501                 0                 1                 0            0   \n",
       "\n",
       "       car_own_flg_Y  car_type_flg_Y  Air_flg_Y  age_youth  age_adult  \\\n",
       "id                                                                      \n",
       "2140               1               1          0          1          0   \n",
       "40514              0               0          0          0          1   \n",
       "12543              0               0          0          1          0   \n",
       "35989              1               0          1          0          1   \n",
       "26501              1               1          0          0          0   \n",
       "\n",
       "       age_senior  Score_bki_(-2.26, -1.921]  Score_bki_(-1.921, -1.568]  \\\n",
       "id                                                                         \n",
       "2140            0                          1                           0   \n",
       "40514           0                          0                           1   \n",
       "12543           0                          0                           0   \n",
       "35989           0                          0                           0   \n",
       "26501           0                          0                           0   \n",
       "\n",
       "       Score_bki_(-1.568, 0.2]  income_(14000.0, 18000.0]  \\\n",
       "id                                                          \n",
       "2140                         0                          0   \n",
       "40514                        0                          0   \n",
       "12543                        1                          0   \n",
       "35989                        0                          0   \n",
       "26501                        1                          0   \n",
       "\n",
       "       income_(18000.0, 22000.0]  income_(22000.0, 25000.0]  \\\n",
       "id                                                            \n",
       "2140                           0                          0   \n",
       "40514                          0                          0   \n",
       "12543                          0                          1   \n",
       "35989                          0                          0   \n",
       "26501                          1                          0   \n",
       "\n",
       "       income_(25000.0, 30000.0]  income_(30000.0, 35000.0]  \\\n",
       "id                                                            \n",
       "2140                           0                          0   \n",
       "40514                          0                          0   \n",
       "12543                          0                          0   \n",
       "35989                          0                          0   \n",
       "26501                          0                          0   \n",
       "\n",
       "       income_(35000.0, 40000.0]  income_(40000.0, 50000.0]  \\\n",
       "id                                                            \n",
       "2140                           1                          0   \n",
       "40514                          0                          0   \n",
       "12543                          0                          0   \n",
       "35989                          0                          0   \n",
       "26501                          0                          0   \n",
       "\n",
       "       income_(50000.0, 70000.0]  income_(70000.0, 1000000.0]  \n",
       "id                                                             \n",
       "2140                           0                            0  \n",
       "40514                          1                            0  \n",
       "12543                          0                            0  \n",
       "35989                          0                            1  \n",
       "26501                          0                            0  "
      ]
     },
     "execution_count": 47,
     "metadata": {
      "tags": []
     },
     "output_type": "execute_result"
    }
   ],
   "source": [
    "# creating dummy variables of our categorical variables via one hot encoding\n",
    "# encoding education_cd\n",
    "train = train.merge(pd.get_dummies(train.education_cd, drop_first = True, prefix = 'education_cd'), left_index = True, \n",
    "                    right_index = True)\n",
    "\n",
    "# encoding gender_cd\n",
    "train = train.merge(pd.get_dummies(train.gender_cd, drop_first = True, prefix = 'gender_cd'), left_index = True, \n",
    "                    right_index = True)\n",
    "\n",
    "# encoding car_own_flg\n",
    "train = train.merge(pd.get_dummies(train.car_own_flg, drop_first = True, prefix = 'car_own_flg'), left_index = True, \n",
    "                    right_index = True)\n",
    "\n",
    "# encoding car_type_flg\n",
    "train = train.merge(pd.get_dummies(train.car_type_flg, drop_first = True, prefix = 'car_type_flg'), left_index = True, \n",
    "                    right_index = True)\n",
    "\n",
    "# encoding Air_flg\n",
    "train = train.merge(pd.get_dummies(train.Air_flg, drop_first = True, prefix = 'Air_flg'), left_index = True, \n",
    "                    right_index = True)\n",
    "\n",
    "# encoding age\n",
    "train = train.merge(pd.get_dummies(train.age, drop_first = True, prefix = 'age'), left_index = True, \n",
    "                    right_index = True)\n",
    "\n",
    "# encoding Score_bki\n",
    "train = train.merge(pd.get_dummies(train.Score_bki, drop_first = True, prefix = 'Score_bki'), left_index = True, \n",
    "                    right_index = True)\n",
    "\n",
    "# encoding income\n",
    "train = train.merge(pd.get_dummies(train.income, drop_first = True, prefix = 'income'), left_index = True, \n",
    "                    right_index = True)\n",
    "\n",
    "# dropping the unneeded columns\n",
    "train.drop(columns = ['age', 'education_cd', 'gender_cd', 'car_own_flg', 'car_type_flg', 'Air_flg', 'income',\n",
    "                     'Score_bki'], inplace = True)\n",
    "\n",
    "train.sample(5)"
   ]
  },
  {
   "cell_type": "markdown",
   "metadata": {
    "id": "lKMitBB9gc8x"
   },
   "source": [
    "# 4. Modeling"
   ]
  },
  {
   "cell_type": "code",
   "execution_count": null,
   "metadata": {
    "id": "NNuyAjzegc8x",
    "outputId": "29e65103-e552-43fa-8ae6-adb4e9f0178c"
   },
   "outputs": [
    {
     "data": {
      "text/plain": [
       "array([76947, 76947], dtype=int64)"
      ]
     },
     "execution_count": 48,
     "metadata": {
      "tags": []
     },
     "output_type": "execute_result"
    }
   ],
   "source": [
    "# splitting into features and target\n",
    "X = train.drop(columns = ['default_flg'])\n",
    "y = train.default_flg\n",
    "\n",
    "# scaling our features\n",
    "from sklearn.preprocessing import MinMaxScaler\n",
    "X_sc = MinMaxScaler().fit_transform(X)\n",
    "\n",
    "# splitting into training and test sets 80-20\n",
    "from sklearn.model_selection import train_test_split as tts\n",
    "X_train, X_test, y_train, y_test = tts(X_sc, y, test_size = 0.2, stratify = y, random_state = 5)\n",
    "\n",
    "# creating a balanced dataset\n",
    "from imblearn.over_sampling import SMOTE\n",
    "smt = SMOTE()\n",
    "X_train, y_train = smt.fit_sample(X_train, y_train)\n",
    "np.bincount(y_train)"
   ]
  },
  {
   "cell_type": "code",
   "execution_count": null,
   "metadata": {
    "id": "EPXn_1Sjgc8z",
    "outputId": "68461ea5-935e-41bd-a891-2906ec7b47f4"
   },
   "outputs": [
    {
     "name": "stdout",
     "output_type": "stream",
     "text": [
      "Confusion matrix:\n",
      "[[12881   941]\n",
      " [ 6356  1852]]\n",
      "\n",
      "Classification report:\n",
      "              precision    recall  f1-score   support\n",
      "\n",
      "           0       0.67      0.93      0.78     13822\n",
      "           1       0.66      0.23      0.34      8208\n",
      "\n",
      "    accuracy                           0.67     22030\n",
      "   macro avg       0.67      0.58      0.56     22030\n",
      "weighted avg       0.67      0.67      0.61     22030\n",
      "\n"
     ]
    }
   ],
   "source": [
    "# implementing logistic regression\n",
    "from sklearn.linear_model import LogisticRegression\n",
    "log = LogisticRegression(solver = 'saga')\n",
    "log.fit(X_train, y_train)\n",
    "log_pred = log.predict(X_test)\n",
    "\n",
    "# evaluating the model\n",
    "from sklearn.metrics import classification_report, confusion_matrix\n",
    "print(\"Confusion matrix:\")\n",
    "print(confusion_matrix(log_pred, y_test))\n",
    "print()\n",
    "print(\"Classification report:\")\n",
    "print(classification_report(log_pred, y_test))"
   ]
  },
  {
   "cell_type": "code",
   "execution_count": null,
   "metadata": {
    "id": "vWfc6sKfgc80",
    "outputId": "a73d2ce9-e786-40b1-d0cf-da431f14716e"
   },
   "outputs": [
    {
     "name": "stdout",
     "output_type": "stream",
     "text": [
      "Accuracy: 0.87 (+/- 0.00)\n"
     ]
    }
   ],
   "source": [
    "# cross-validating the model\n",
    "from sklearn.model_selection import cross_val_score\n",
    "predicted = cross_val_score(log, X_sc, y, cv = 10)\n",
    "print(\"Accuracy: %0.2f (+/- %0.2f)\" % (predicted.mean(), predicted.std() * 2))"
   ]
  },
  {
   "cell_type": "code",
   "execution_count": null,
   "metadata": {
    "id": "Ulk7XyzWgc82",
    "outputId": "c839f5c7-f084-4c2d-9e1e-7b314fcf9e8f"
   },
   "outputs": [
    {
     "data": {
      "image/png": "[encoded data removed]",
      "text/plain": [
       "<Figure size 504x360 with 1 Axes>"
      ]
     },
     "metadata": {
      "needs_background": "light",
      "tags": []
     },
     "output_type": "display_data"
    },
    {
     "name": "stdout",
     "output_type": "stream",
     "text": [
      "ROC/AUC Score: 0.5787768277991721\n"
     ]
    }
   ],
   "source": [
    "# plotting roc curve (receiving operating characteristic curve)\n",
    "from sklearn.metrics import roc_curve, roc_auc_score\n",
    "\n",
    "# Create true and false positive rates\n",
    "false_positive_rate, true_positive_rate, threshold = roc_curve(log_pred, y_test)\n",
    "\n",
    "# Plot ROC curve\n",
    "plt.title('Receiver Operating Characteristic')\n",
    "plt.plot(false_positive_rate, true_positive_rate)\n",
    "plt.plot([0, 1], ls=\"--\")\n",
    "plt.plot([0, 0], [1, 0] , c=\".7\"), plt.plot([1, 1] , c=\".7\")\n",
    "plt.ylabel('True Positive Rate')\n",
    "plt.xlabel('False Positive Rate')\n",
    "plt.show()\n",
    "\n",
    "print(\"ROC/AUC Score:\", roc_auc_score(log_pred, y_test))"
   ]
  },
  {
   "cell_type": "markdown",
   "metadata": {
    "id": "ijbCrJu1gc83"
   },
   "source": [
    "## 4.1 Improving the Model"
   ]
  },
  {
   "cell_type": "markdown",
   "metadata": {
    "id": "MrjJsfNmgc84"
   },
   "source": [
    "### 4.1.1 Hyperparameter Tuning"
   ]
  },
  {
   "cell_type": "code",
   "execution_count": null,
   "metadata": {
    "id": "HIphgUhQgc84",
    "outputId": "e9e248b7-2b58-4061-8e77-707b944a9010"
   },
   "outputs": [
    {
     "name": "stdout",
     "output_type": "stream",
     "text": [
      "When C = 0.001, accuracy = 0.6619155696777123\n",
      "When C = 0.01, accuracy = 0.6627326373127553\n",
      "When C = 0.1, accuracy = 0.6667271901951883\n",
      "When C = 1, accuracy = 0.668724466636405\n",
      "When C = 10, accuracy = 0.6696777122106219\n",
      "When C = 100, accuracy = 0.669859282796187\n",
      "When C = 1000, accuracy = 0.6698138901497958\n",
      "When C = 10000, accuracy = 0.6697231048570131\n",
      "When C = 100000, accuracy = 0.6697231048570131\n"
     ]
    }
   ],
   "source": [
    "# setting up a range of values for C to test\n",
    "from sklearn.metrics import accuracy_score\n",
    "C_params = [0.001,0.01,0.1,1,10,100, 1000, 10000, 100000]\n",
    "\n",
    "for c in C_params:\n",
    "    log = LogisticRegression(solver = 'saga', C = c)\n",
    "    log.fit(X_train, y_train)\n",
    "    log_pred = log.predict(X_test)\n",
    "    print(\"When C = {}, accuracy = {}\".format(c, accuracy_score(log_pred, y_test)))"
   ]
  },
  {
   "cell_type": "markdown",
   "metadata": {
    "id": "2ovCkg8ngc85"
   },
   "source": [
    "We see that the model's performance improves significantly until c = 10, from which the increase ceases to be significant."
   ]
  },
  {
   "cell_type": "markdown",
   "metadata": {
    "id": "_cVq8HDVgc85"
   },
   "source": [
    "### 4.1.2 Feature Selection"
   ]
  },
  {
   "cell_type": "code",
   "execution_count": null,
   "metadata": {
    "id": "iG9fZ_2Hgc86",
    "outputId": "3efdf0a1-d268-4fe9-b617-9fd4a814bfb1"
   },
   "outputs": [
    {
     "name": "stdout",
     "output_type": "stream",
     "text": [
      "Optimal number of features: 7\n"
     ]
    }
   ],
   "source": [
    "# finding the optimal number of features using Recursive Feature Elimination with Cross Validation (RFECV)\n",
    "from sklearn.feature_selection import RFECV\n",
    "from sklearn.model_selection import StratifiedKFold\n",
    "\n",
    "log = LogisticRegression(solver = 'saga')\n",
    "rfecv = RFECV(estimator = log, step = 1, cv = StratifiedKFold(10), scoring = 'accuracy')\n",
    "rfecv.fit(X_sc, y)\n",
    "print('Optimal number of features: {}'.format(rfecv.n_features_))"
   ]
  },
  {
   "cell_type": "code",
   "execution_count": null,
   "metadata": {
    "id": "a48g3Oc3gc87",
    "outputId": "577cb5ad-35b5-40a4-a2ba-2e5524cbd037"
   },
   "outputs": [
    {
     "data": {
      "text/plain": [
       "[Index(['appl_rej_cnt', 'out_request_cnt', 'region_rating', 'work_address_cd',\n",
       "        'SNA', 'Score_bki_(-1.921, -1.568]', 'Score_bki_(-1.568, 0.2]'],\n",
       "       dtype='object')]"
      ]
     },
     "execution_count": 54,
     "metadata": {
      "tags": []
     },
     "output_type": "execute_result"
    }
   ],
   "source": [
    "# getting the best features\n",
    "indices = np.where(rfecv.support_ == True)\n",
    "best_features = []\n",
    "\n",
    "for index in indices:\n",
    "    best_features.append(X.columns[index])\n",
    "    \n",
    "best_features"
   ]
  },
  {
   "cell_type": "code",
   "execution_count": null,
   "metadata": {
    "id": "IbYT8yuMgc89",
    "outputId": "ea1cda39-3647-4902-91e2-16847d36d859"
   },
   "outputs": [
    {
     "name": "stdout",
     "output_type": "stream",
     "text": [
      "Confusion matrix:\n",
      "[[12642   987]\n",
      " [ 6595  1806]]\n",
      "\n",
      "Classification report:\n",
      "              precision    recall  f1-score   support\n",
      "\n",
      "           0       0.66      0.93      0.77     13629\n",
      "           1       0.65      0.21      0.32      8401\n",
      "\n",
      "    accuracy                           0.66     22030\n",
      "   macro avg       0.65      0.57      0.55     22030\n",
      "weighted avg       0.65      0.66      0.60     22030\n",
      "\n"
     ]
    }
   ],
   "source": [
    "# working with these selected features\n",
    "X_df = train[best_features[0]]\n",
    "y_df = train['default_flg']\n",
    "\n",
    "# scaling the features\n",
    "X_df_sc = MinMaxScaler().fit_transform(X_df)\n",
    "\n",
    "# splitting into 80-20 training and test sets\n",
    "X_train, X_test, y_train, y_test = tts(X_df_sc, y_df, test_size = 0.2, stratify = y, random_state = 5)\n",
    "\n",
    "# creating a balanced dataset\n",
    "smt = SMOTE()\n",
    "X_train, y_train = smt.fit_sample(X_train, y_train)\n",
    "\n",
    "# implementing logistic regression\n",
    "logreg = LogisticRegression(solver = 'saga')\n",
    "logreg.fit(X_train, y_train)\n",
    "y_pred = logreg.predict(X_test)\n",
    "\n",
    "# evaluating the model\n",
    "print(\"Confusion matrix:\")\n",
    "print(confusion_matrix(y_pred, y_test))\n",
    "print()\n",
    "print(\"Classification report:\")\n",
    "print(classification_report(y_pred, y_test))"
   ]
  },
  {
   "cell_type": "markdown",
   "metadata": {
    "id": "jXrgYiumgc9A"
   },
   "source": [
    "Using the selected features yielded a slightly lower accuracy score. Let's combine these few features with hyperparameter tuning."
   ]
  },
  {
   "cell_type": "code",
   "execution_count": null,
   "metadata": {
    "id": "TJmc4qg4gc9A",
    "outputId": "bbff6a6f-9dde-432b-c795-c10d1b66016b"
   },
   "outputs": [
    {
     "name": "stdout",
     "output_type": "stream",
     "text": [
      "When C = 0.001, accuracy = 0.63604176123468\n",
      "When C = 0.01, accuracy = 0.6554698138901498\n",
      "When C = 0.1, accuracy = 0.6534725374489333\n",
      "When C = 1, accuracy = 0.65583295506128\n",
      "When C = 10, accuracy = 0.6563776668179755\n",
      "When C = 100, accuracy = 0.656150703586019\n",
      "When C = 1000, accuracy = 0.656150703586019\n",
      "When C = 10000, accuracy = 0.656150703586019\n",
      "When C = 100000, accuracy = 0.656150703586019\n"
     ]
    }
   ],
   "source": [
    "for c in C_params:\n",
    "    logreg = LogisticRegression(solver = 'saga', C = c, random_state = 5)\n",
    "    logreg.fit(X_train, y_train)\n",
    "    y_pred = logreg.predict(X_test)\n",
    "    print(\"When C = {}, accuracy = {}\".format(c, accuracy_score(y_pred, y_test)))"
   ]
  },
  {
   "cell_type": "code",
   "execution_count": null,
   "metadata": {
    "id": "IaZkKtfXgc9E",
    "outputId": "f72dd958-563e-4a0a-cf17-7511a6477849"
   },
   "outputs": [
    {
     "data": {
      "image/png": "[encoded data removed]",
      "text/plain": [
       "<Figure size 504x360 with 1 Axes>"
      ]
     },
     "metadata": {
      "needs_background": "light",
      "tags": []
     },
     "output_type": "display_data"
    },
    {
     "name": "stdout",
     "output_type": "stream",
     "text": [
      "ROC/AUC Score: 0.5715817262341474\n"
     ]
    }
   ],
   "source": [
    "# plotting roc curve (receiving operating characteristic curve)\n",
    "false_positive_rate, true_positive_rate, threshold = roc_curve(y_pred, y_test)\n",
    "\n",
    "# Plot ROC curve\n",
    "plt.title('Receiver Operating Characteristic')\n",
    "plt.plot(false_positive_rate, true_positive_rate)\n",
    "plt.plot([0, 1], ls=\"--\")\n",
    "plt.plot([0, 0], [1, 0] , c=\".7\"), plt.plot([1, 1] , c=\".7\")\n",
    "plt.ylabel('True Positive Rate')\n",
    "plt.xlabel('False Positive Rate')\n",
    "plt.show()\n",
    "\n",
    "print(\"ROC/AUC Score:\", roc_auc_score(y_pred, y_test))"
   ]
  },
  {
   "cell_type": "markdown",
   "metadata": {
    "id": "O2flmZT0gc9H"
   },
   "source": [
    "This new mode has gotten slightly worse."
   ]
  },
  {
   "cell_type": "markdown",
   "metadata": {
    "id": "Va7xI96ggc9H"
   },
   "source": [
    "## 4.2 Alternate Models"
   ]
  },
  {
   "cell_type": "markdown",
   "metadata": {
    "id": "7zZOC180gc9I"
   },
   "source": [
    "### 4.2.1 Decision Tree"
   ]
  },
  {
   "cell_type": "code",
   "execution_count": null,
   "metadata": {
    "id": "WIxWKT4ygc9I",
    "outputId": "feb1e1fb-da63-4c11-818f-f1c18c034cd9"
   },
   "outputs": [
    {
     "name": "stdout",
     "output_type": "stream",
     "text": [
      "Confusion matrix:\n",
      "[[16573  2166]\n",
      " [ 2664   627]]\n",
      "\n",
      "Classification report:\n",
      "              precision    recall  f1-score   support\n",
      "\n",
      "           0       0.86      0.88      0.87     18739\n",
      "           1       0.22      0.19      0.21      3291\n",
      "\n",
      "    accuracy                           0.78     22030\n",
      "   macro avg       0.54      0.54      0.54     22030\n",
      "weighted avg       0.77      0.78      0.77     22030\n",
      "\n"
     ]
    }
   ],
   "source": [
    "from sklearn.tree import DecisionTreeClassifier\n",
    "\n",
    "X = train.drop(columns = ['default_flg'])\n",
    "y = train.default_flg\n",
    "\n",
    "X_sc = MinMaxScaler().fit_transform(X)\n",
    "\n",
    "X_train, X_test, y_train, y_test = tts(X_sc, y, test_size = 0.2, random_state = 5, stratify = y)\n",
    "\n",
    "smt = SMOTE()\n",
    "X_train, y_train = smt.fit_sample(X_train, y_train)\n",
    "\n",
    "dtc = DecisionTreeClassifier()\n",
    "dtc.fit(X_train, y_train)\n",
    "dtc_pred = dtc.predict(X_test)\n",
    "\n",
    "print(\"Confusion matrix:\")\n",
    "print(confusion_matrix(dtc_pred, y_test))\n",
    "print()\n",
    "print(\"Classification report:\")\n",
    "print(classification_report(dtc_pred, y_test))"
   ]
  },
  {
   "cell_type": "code",
   "execution_count": null,
   "metadata": {
    "id": "ufdaNL1Tgc9J",
    "outputId": "a87270b9-a38a-489d-c670-ab6558831544"
   },
   "outputs": [
    {
     "data": {
      "image/png": "[encoded data removed]",
      "text/plain": [
       "<Figure size 504x360 with 1 Axes>"
      ]
     },
     "metadata": {
      "needs_background": "light",
      "tags": []
     },
     "output_type": "display_data"
    },
    {
     "name": "stdout",
     "output_type": "stream",
     "text": [
      "ROC/AUC Score: 0.5374658936950091\n"
     ]
    }
   ],
   "source": [
    "# plotting roc curve (receiving operating characteristic curve)\n",
    "false_positive_rate, true_positive_rate, threshold = roc_curve(dtc_pred, y_test)\n",
    "\n",
    "# Plot ROC curve\n",
    "plt.title('Receiver Operating Characteristic')\n",
    "plt.plot(false_positive_rate, true_positive_rate)\n",
    "plt.plot([0, 1], ls=\"--\")\n",
    "plt.plot([0, 0], [1, 0] , c=\".7\"), plt.plot([1, 1] , c=\".7\")\n",
    "plt.ylabel('True Positive Rate')\n",
    "plt.xlabel('False Positive Rate')\n",
    "plt.show()\n",
    "\n",
    "print(\"ROC/AUC Score:\", roc_auc_score(dtc_pred, y_test))"
   ]
  },
  {
   "cell_type": "markdown",
   "metadata": {
    "id": "KIvB4gH8gc9L"
   },
   "source": [
    "### 4.2.2 Random Forest"
   ]
  },
  {
   "cell_type": "code",
   "execution_count": null,
   "metadata": {
    "id": "Caq9nUSCgc9L",
    "outputId": "77f396fb-0c77-40ea-8bab-569072219e3c"
   },
   "outputs": [
    {
     "name": "stdout",
     "output_type": "stream",
     "text": [
      "Confusion matrix:\n",
      "[[18890  2605]\n",
      " [  347   188]]\n",
      "\n",
      "Classification report:\n",
      "              precision    recall  f1-score   support\n",
      "\n",
      "           0       0.98      0.88      0.93     21495\n",
      "           1       0.07      0.35      0.11       535\n",
      "\n",
      "    accuracy                           0.87     22030\n",
      "   macro avg       0.52      0.62      0.52     22030\n",
      "weighted avg       0.96      0.87      0.91     22030\n",
      "\n"
     ]
    }
   ],
   "source": [
    "from sklearn.ensemble import RandomForestClassifier\n",
    "\n",
    "X = train.drop(columns = ['default_flg'])\n",
    "y = train.default_flg\n",
    "\n",
    "X_sc = MinMaxScaler().fit_transform(X)\n",
    "\n",
    "X_train, X_test, y_train, y_test = tts(X_sc, y, test_size = 0.2, random_state = 5, stratify = y)\n",
    "\n",
    "smt = SMOTE()\n",
    "X_train, y_train = smt.fit_sample(X_train, y_train)\n",
    "\n",
    "rfc = RandomForestClassifier()\n",
    "rfc.fit(X_train, y_train)\n",
    "rfc_pred = rfc.predict(X_test)\n",
    "\n",
    "print(\"Confusion matrix:\")\n",
    "print(confusion_matrix(rfc_pred, y_test))\n",
    "print()\n",
    "print(\"Classification report:\")\n",
    "print(classification_report(rfc_pred, y_test))"
   ]
  },
  {
   "cell_type": "code",
   "execution_count": null,
   "metadata": {
    "id": "Y8hNdpdKgc9N",
    "outputId": "46f534a9-deb1-45cf-c852-983d446e08b7"
   },
   "outputs": [
    {
     "data": {
      "image/png": "[encoded data removed]",
      "text/plain": [
       "<Figure size 504x360 with 1 Axes>"
      ]
     },
     "metadata": {
      "needs_background": "light",
      "tags": []
     },
     "output_type": "display_data"
    },
    {
     "name": "stdout",
     "output_type": "stream",
     "text": [
      "ROC/AUC Score: 0.615105447256806\n"
     ]
    }
   ],
   "source": [
    "# plotting roc curve (receiving operating characteristic curve)\n",
    "false_positive_rate, true_positive_rate, threshold = roc_curve(rfc_pred, y_test)\n",
    "\n",
    "# Plot ROC curve\n",
    "plt.title('Receiver Operating Characteristic')\n",
    "plt.plot(false_positive_rate, true_positive_rate)\n",
    "plt.plot([0, 1], ls=\"--\")\n",
    "plt.plot([0, 0], [1, 0] , c=\".7\"), plt.plot([1, 1] , c=\".7\")\n",
    "plt.ylabel('True Positive Rate')\n",
    "plt.xlabel('False Positive Rate')\n",
    "plt.show()\n",
    "\n",
    "print(\"ROC/AUC Score:\", roc_auc_score(rfc_pred, y_test))"
   ]
  },
  {
   "cell_type": "markdown",
   "metadata": {
    "id": "Ep5kNqmMgc9P"
   },
   "source": [
    "# 5. Conclusion and Recommendations\n",
    "\n",
    "A customer is more likely to default if:\n",
    "- education_cd = SCH\n",
    "- car_own_flg = N\n",
    "- car_type_flg = N\n",
    "- good_work_flg = 0\n",
    "- out_request_cnt = 1\n",
    "- region_rating = 50\n",
    "- home_address_cd = 2\n",
    "- work_address_cd = 3\n",
    "- SNA = 1\n",
    "- first_time_cd = 3\n",
    "- Air_flg = N\n",
    "    \n",
    "A customer is more unlikely **NOT** to default if:\n",
    "- education_cd = PGR/ACD\n",
    "- car_own_flg = Y\n",
    "- car_type_flg = Y\n",
    "- good_work_flg = 1\n",
    "- out_request_cnt >= 10\n",
    "- region_rating = 20, 30\n",
    "- home_address_cd = 3\n",
    "- work_address_cd = 1\n",
    "- SNA = 3\n",
    "- first_time_cd = 4\n",
    "- Air_flg = Y\n",
    "    \n",
    "The following variables did not yield any significant differences between the defaulters and the non-defaulters:\n",
    "- gender\n",
    "- age\n",
    "- income\n",
    "    \n",
    "From the above analysis and modeling stages, it is clear that logistic regression is not the right algorithm for the dataset. We can try tuning more hyperparameters to see whether we are able to get values that would lead to a better model accuracy. If explainability isn't a huge bit factor to take into consideration then the Random Forest model can be considered."
   ]
  },
  {
   "cell_type": "markdown",
   "metadata": {
    "id": "yW8pM0pUgc9P"
   },
   "source": [
    "# 6. Challenging your Solution\n",
    "\n",
    "### a) Did we have the right question?\n",
    "Yes.\n",
    "\n",
    "### b) Did we have the right data?\n",
    "Yes.\n",
    "\n",
    "### c) What can be done to improve the solution?\n",
    "Performing hyperparameter tuning, feature engineering techniques i.e. PCA. We can also experiment with other advanced machine learning techinques such as boosting and bagging."
   ]
  }
 ],
 "metadata": {
  "colab": {
   "collapsed_sections": [
    "l1VuY4u2-r1N",
    "E_AIiPyegc6G",
    "xbgh2SK3gc6K",
    "WanK4FCpgc6p",
    "pfWCGtUMgc6q",
    "iMpl_1Wagc7b",
    "S7w-kpl8gc8j",
    "lKMitBB9gc8x",
    "ijbCrJu1gc83",
    "MrjJsfNmgc84",
    "_cVq8HDVgc85",
    "Va7xI96ggc9H",
    "7zZOC180gc9I",
    "KIvB4gH8gc9L",
    "Ep5kNqmMgc9P",
    "yW8pM0pUgc9P"
   ],
   "name": "Credit Scoring Models in Banking - Solution Notebook",
   "provenance": [],
   "toc_visible": true
  },
  "kernelspec": {
   "display_name": "Python 3",
   "language": "python",
   "name": "python3"
  },
  "language_info": {
   "codemirror_mode": {
    "name": "ipython",
    "version": 3
   },
   "file_extension": ".py",
   "mimetype": "text/x-python",
   "name": "python",
   "nbconvert_exporter": "python",
   "pygments_lexer": "ipython3",
   "version": "3.8.5"
  }
 },
 "nbformat": 4,
 "nbformat_minor": 4
}
